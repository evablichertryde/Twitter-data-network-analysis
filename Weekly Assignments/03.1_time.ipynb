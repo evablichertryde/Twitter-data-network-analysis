{
 "cells": [
  {
   "cell_type": "code",
   "execution_count": 3,
   "metadata": {
    "scrolled": true
   },
   "outputs": [
    {
     "data": {
      "text/plain": [
       "'C:\\\\Users\\\\Bruger\\\\OneDrive - Københavns Universitet\\\\Dokumenter\\\\8. semester\\\\python'"
      ]
     },
     "execution_count": 3,
     "metadata": {},
     "output_type": "execute_result"
    }
   ],
   "source": [
    "#created 18.02.20\n",
    "# 3. class \n",
    "import os\n",
    "os.getcwd()\n",
    "# TODO\n",
    "# (1) Homework Solutions\n",
    "# (2) More pandas stuff... empty dfs, appending, writing CSV, feathers etc. \n",
    "# (3) JSON and \"Raw\" Twitter Data\n",
    "#import feather"
   ]
  },
  {
   "cell_type": "code",
   "execution_count": 4,
   "metadata": {
    "scrolled": true
   },
   "outputs": [],
   "source": [
    "import pandas as pd\n",
    "import numpy as np\n",
    "import json"
   ]
  },
  {
   "cell_type": "code",
   "execution_count": 5,
   "metadata": {},
   "outputs": [],
   "source": [
    "# save in pip here ..\\feather\\__init__.py\n",
    "#c:\\users\\bruger\\appdata\\local\\packages\\pythonsoftwarefoundation.python.3.7_qbz5n2kfra8p0\\localcache\\local-packages\\python37\\site-packages"
   ]
  },
  {
   "cell_type": "code",
   "execution_count": 6,
   "metadata": {},
   "outputs": [],
   "source": [
    "# (1) Homework Solutions\n",
    "# ~~~~~~~~~~~~~~~~~~~~~~~~~~~~~~~~~~~~~~~~~~~~~~~~~~~~~~~~~~~~~~~~~~\n",
    "# Exercise 02.02\n",
    "# ~~~~~~~~~~~~~~~~~~~~~~~~~~~~~~~~~~~~~~~~~~~~~~~~~~~~~~~~~~~~~~~~~~\n",
    "# (1) Create a new subset containing all user_handles in the pandas\n",
    "# DataFrame by using the subsetting techniques showed above. Check \n",
    "# what type the newly created object is, and to turn it into a 'list'\n",
    "# Tipp: Use Google to find out how to turn an python into a list"
   ]
  },
  {
   "cell_type": "code",
   "execution_count": 7,
   "metadata": {},
   "outputs": [],
   "source": [
    "df_temp = pd.read_csv(\"data/100-Brexit-Tweets.csv\")"
   ]
  },
  {
   "cell_type": "code",
   "execution_count": 8,
   "metadata": {},
   "outputs": [
    {
     "data": {
      "text/plain": [
       "Index(['ID', 'json_file', 'json_pos', 'processed_at', 'user_id', 'user_handle',\n",
       "       'user_loc', 'user_desc', 'tweet_text', 'tweet_id', 'tweet_time',\n",
       "       'tweet_geo', 'tweet_country', 'tweet_loc', 'tweet_loc_type',\n",
       "       'tweet_lang', 'tweet_type', 'tweet_hashtags', 'tweet_mentions',\n",
       "       're_user_id', 're_user_handle', 're_user_loc', 're_user_desc',\n",
       "       're_tweet_text', 're_tweet_id', 're_tweet_time', 're_tweet_geo',\n",
       "       're_tweet_country', 're_tweet_loc', 're_tweet_loc_type',\n",
       "       're_tweet_hashtags', 're_tweet_mentions', 'qu_user_id',\n",
       "       'qu_user_handle', 'qu_user_loc', 'qu_user_desc', 'qu_tweet_text',\n",
       "       'qu_tweet_id', 'qu_tweet_time', 'qu_tweet_geo', 'qu_tweet_country',\n",
       "       'qu_tweet_loc', 'qu_tweet_loc_type', 'qu_tweet_hashtags',\n",
       "       'qu_tweet_mentions'],\n",
       "      dtype='object')"
      ]
     },
     "execution_count": 8,
     "metadata": {},
     "output_type": "execute_result"
    }
   ],
   "source": [
    "df_temp.columns"
   ]
  },
  {
   "cell_type": "code",
   "execution_count": 9,
   "metadata": {},
   "outputs": [
    {
     "data": {
      "text/html": [
       "<div>\n",
       "<style scoped>\n",
       "    .dataframe tbody tr th:only-of-type {\n",
       "        vertical-align: middle;\n",
       "    }\n",
       "\n",
       "    .dataframe tbody tr th {\n",
       "        vertical-align: top;\n",
       "    }\n",
       "\n",
       "    .dataframe thead th {\n",
       "        text-align: right;\n",
       "    }\n",
       "</style>\n",
       "<table border=\"1\" class=\"dataframe\">\n",
       "  <thead>\n",
       "    <tr style=\"text-align: right;\">\n",
       "      <th></th>\n",
       "      <th>user_id</th>\n",
       "      <th>user_handle</th>\n",
       "      <th>user_loc</th>\n",
       "      <th>user_desc</th>\n",
       "      <th>tweet_text</th>\n",
       "      <th>tweet_id</th>\n",
       "      <th>tweet_time</th>\n",
       "    </tr>\n",
       "  </thead>\n",
       "  <tbody>\n",
       "    <tr>\n",
       "      <td>0</td>\n",
       "      <td>2.520628e+08</td>\n",
       "      <td>John_Perry_UK</td>\n",
       "      <td>Havant Constituency</td>\n",
       "      <td>2015, 2017 &amp; 20xx GE Candidate. Havant Residen...</td>\n",
       "      <td>NaN</td>\n",
       "      <td>1.133630e+18</td>\n",
       "      <td>29/05/2019 07:04</td>\n",
       "    </tr>\n",
       "    <tr>\n",
       "      <td>1</td>\n",
       "      <td>2.471046e+09</td>\n",
       "      <td>Jeankellie1</td>\n",
       "      <td>NaN</td>\n",
       "      <td>NaN</td>\n",
       "      <td>NaN</td>\n",
       "      <td>1.133630e+18</td>\n",
       "      <td>29/05/2019 07:04</td>\n",
       "    </tr>\n",
       "    <tr>\n",
       "      <td>2</td>\n",
       "      <td>8.563300e+17</td>\n",
       "      <td>Mash_uk77</td>\n",
       "      <td>Manor park</td>\n",
       "      <td>Father of three, joined labour after JC was el...</td>\n",
       "      <td>#RT PeterStefanovi2: RT Harryslaststand: With ...</td>\n",
       "      <td>1.133630e+18</td>\n",
       "      <td>29/05/2019 07:04</td>\n",
       "    </tr>\n",
       "    <tr>\n",
       "      <td>3</td>\n",
       "      <td>3.075387e+09</td>\n",
       "      <td>w0rldlyw1se</td>\n",
       "      <td>England - UK - Out of EU</td>\n",
       "      <td>Topical comment on topical matters. Many a tru...</td>\n",
       "      <td>NaN</td>\n",
       "      <td>1.133630e+18</td>\n",
       "      <td>29/05/2019 07:04</td>\n",
       "    </tr>\n",
       "    <tr>\n",
       "      <td>4</td>\n",
       "      <td>8.828850e+17</td>\n",
       "      <td>TheLeftWingUK</td>\n",
       "      <td>United Kingdom</td>\n",
       "      <td>#leftwing #politics news aggregator. Get the n...</td>\n",
       "      <td>John Bercow defies Eurosceptics with vow to st...</td>\n",
       "      <td>1.133630e+18</td>\n",
       "      <td>29/05/2019 07:04</td>\n",
       "    </tr>\n",
       "    <tr>\n",
       "      <td>...</td>\n",
       "      <td>...</td>\n",
       "      <td>...</td>\n",
       "      <td>...</td>\n",
       "      <td>...</td>\n",
       "      <td>...</td>\n",
       "      <td>...</td>\n",
       "      <td>...</td>\n",
       "    </tr>\n",
       "    <tr>\n",
       "      <td>96</td>\n",
       "      <td>9.880684e+08</td>\n",
       "      <td>yoakumgirl923</td>\n",
       "      <td>Texas, USA</td>\n",
       "      <td>Blocked by Michael Avenatti for thanking him f...</td>\n",
       "      <td>NaN</td>\n",
       "      <td>1.133630e+18</td>\n",
       "      <td>29/05/2019 07:04</td>\n",
       "    </tr>\n",
       "    <tr>\n",
       "      <td>97</td>\n",
       "      <td>1.842798e+07</td>\n",
       "      <td>bridgetmck</td>\n",
       "      <td>London, England</td>\n",
       "      <td>Director @Flow_ers1 Museums, arts, learning, f...</td>\n",
       "      <td>NaN</td>\n",
       "      <td>1.129700e+18</td>\n",
       "      <td>18/05/2019 11:02</td>\n",
       "    </tr>\n",
       "    <tr>\n",
       "      <td>98</td>\n",
       "      <td>8.235065e+07</td>\n",
       "      <td>marciojmsilva</td>\n",
       "      <td>Lousada, Portugal</td>\n",
       "      <td>Living life, one day after another. One day at...</td>\n",
       "      <td>Primeira-ministra britânica urge sucessor a pr...</td>\n",
       "      <td>1.133630e+18</td>\n",
       "      <td>29/05/2019 07:04</td>\n",
       "    </tr>\n",
       "    <tr>\n",
       "      <td>99</td>\n",
       "      <td>9.883110e+17</td>\n",
       "      <td>boxster_porsche</td>\n",
       "      <td>Earth</td>\n",
       "      <td>Live\\nLove\\nForgive\\nDrive</td>\n",
       "      <td>NaN</td>\n",
       "      <td>1.129700e+18</td>\n",
       "      <td>18/05/2019 11:02</td>\n",
       "    </tr>\n",
       "    <tr>\n",
       "      <td>100</td>\n",
       "      <td>8.738730e+17</td>\n",
       "      <td>Rene16437696</td>\n",
       "      <td>Midlothian Scotland</td>\n",
       "      <td>Happily retired.snp http://member.love Scotlan...</td>\n",
       "      <td>NaN</td>\n",
       "      <td>1.133630e+18</td>\n",
       "      <td>29/05/2019 07:04</td>\n",
       "    </tr>\n",
       "  </tbody>\n",
       "</table>\n",
       "<p>101 rows × 7 columns</p>\n",
       "</div>"
      ],
      "text/plain": [
       "          user_id      user_handle                  user_loc  \\\n",
       "0    2.520628e+08    John_Perry_UK       Havant Constituency   \n",
       "1    2.471046e+09      Jeankellie1                       NaN   \n",
       "2    8.563300e+17        Mash_uk77                Manor park   \n",
       "3    3.075387e+09      w0rldlyw1se  England - UK - Out of EU   \n",
       "4    8.828850e+17    TheLeftWingUK            United Kingdom   \n",
       "..            ...              ...                       ...   \n",
       "96   9.880684e+08    yoakumgirl923                Texas, USA   \n",
       "97   1.842798e+07       bridgetmck           London, England   \n",
       "98   8.235065e+07    marciojmsilva         Lousada, Portugal   \n",
       "99   9.883110e+17  boxster_porsche                     Earth   \n",
       "100  8.738730e+17     Rene16437696      Midlothian Scotland    \n",
       "\n",
       "                                             user_desc  \\\n",
       "0    2015, 2017 & 20xx GE Candidate. Havant Residen...   \n",
       "1                                                  NaN   \n",
       "2    Father of three, joined labour after JC was el...   \n",
       "3    Topical comment on topical matters. Many a tru...   \n",
       "4    #leftwing #politics news aggregator. Get the n...   \n",
       "..                                                 ...   \n",
       "96   Blocked by Michael Avenatti for thanking him f...   \n",
       "97   Director @Flow_ers1 Museums, arts, learning, f...   \n",
       "98   Living life, one day after another. One day at...   \n",
       "99                          Live\\nLove\\nForgive\\nDrive   \n",
       "100  Happily retired.snp http://member.love Scotlan...   \n",
       "\n",
       "                                            tweet_text      tweet_id  \\\n",
       "0                                                  NaN  1.133630e+18   \n",
       "1                                                  NaN  1.133630e+18   \n",
       "2    #RT PeterStefanovi2: RT Harryslaststand: With ...  1.133630e+18   \n",
       "3                                                  NaN  1.133630e+18   \n",
       "4    John Bercow defies Eurosceptics with vow to st...  1.133630e+18   \n",
       "..                                                 ...           ...   \n",
       "96                                                 NaN  1.133630e+18   \n",
       "97                                                 NaN  1.129700e+18   \n",
       "98   Primeira-ministra britânica urge sucessor a pr...  1.133630e+18   \n",
       "99                                                 NaN  1.129700e+18   \n",
       "100                                                NaN  1.133630e+18   \n",
       "\n",
       "           tweet_time  \n",
       "0    29/05/2019 07:04  \n",
       "1    29/05/2019 07:04  \n",
       "2    29/05/2019 07:04  \n",
       "3    29/05/2019 07:04  \n",
       "4    29/05/2019 07:04  \n",
       "..                ...  \n",
       "96   29/05/2019 07:04  \n",
       "97   18/05/2019 11:02  \n",
       "98   29/05/2019 07:04  \n",
       "99   18/05/2019 11:02  \n",
       "100  29/05/2019 07:04  \n",
       "\n",
       "[101 rows x 7 columns]"
      ]
     },
     "execution_count": 9,
     "metadata": {},
     "output_type": "execute_result"
    }
   ],
   "source": [
    "selected_cols = [\"user_id\", \"user_handle\", \"user_loc\",\"user_desc\", \n",
    "                 \"tweet_text\", \"tweet_id\", \"tweet_time\"]\n",
    "df_temp = df_temp.loc[:, selected_cols]\n",
    "#overwrites df_temp from before, and delete all columns, \n",
    "#other than the chosen ones. \n",
    "df_temp"
   ]
  },
  {
   "cell_type": "code",
   "execution_count": 10,
   "metadata": {},
   "outputs": [
    {
     "data": {
      "text/plain": [
       "{'user_id': [nan],\n",
       " 'user_handle': [nan],\n",
       " 'user_loc': [nan],\n",
       " 'user_desc': [nan],\n",
       " 'tweet_text': [nan],\n",
       " 'tweet_id': [nan],\n",
       " 'tweet_time': [nan]}"
      ]
     },
     "execution_count": 10,
     "metadata": {},
     "output_type": "execute_result"
    }
   ],
   "source": [
    "#creating a new data frame\n",
    "empty_data = {col: [np.nan] for col in selected_cols}\n",
    "empty_data"
   ]
  },
  {
   "cell_type": "code",
   "execution_count": 11,
   "metadata": {},
   "outputs": [
    {
     "data": {
      "text/html": [
       "<div>\n",
       "<style scoped>\n",
       "    .dataframe tbody tr th:only-of-type {\n",
       "        vertical-align: middle;\n",
       "    }\n",
       "\n",
       "    .dataframe tbody tr th {\n",
       "        vertical-align: top;\n",
       "    }\n",
       "\n",
       "    .dataframe thead th {\n",
       "        text-align: right;\n",
       "    }\n",
       "</style>\n",
       "<table border=\"1\" class=\"dataframe\">\n",
       "  <thead>\n",
       "    <tr style=\"text-align: right;\">\n",
       "      <th></th>\n",
       "      <th>user_id</th>\n",
       "      <th>user_handle</th>\n",
       "      <th>user_loc</th>\n",
       "      <th>user_desc</th>\n",
       "      <th>tweet_text</th>\n",
       "      <th>tweet_id</th>\n",
       "      <th>tweet_time</th>\n",
       "    </tr>\n",
       "  </thead>\n",
       "  <tbody>\n",
       "    <tr>\n",
       "      <td>0</td>\n",
       "      <td>NaN</td>\n",
       "      <td>NaN</td>\n",
       "      <td>NaN</td>\n",
       "      <td>NaN</td>\n",
       "      <td>NaN</td>\n",
       "      <td>NaN</td>\n",
       "      <td>NaN</td>\n",
       "    </tr>\n",
       "  </tbody>\n",
       "</table>\n",
       "</div>"
      ],
      "text/plain": [
       "   user_id  user_handle  user_loc  user_desc  tweet_text  tweet_id  tweet_time\n",
       "0      NaN          NaN       NaN        NaN         NaN       NaN         NaN"
      ]
     },
     "execution_count": 11,
     "metadata": {},
     "output_type": "execute_result"
    }
   ],
   "source": [
    "new_tweet = pd.DataFrame(empty_data)\n",
    "new_tweet\n",
    "# what an empty row where we can fill in data from the tweets "
   ]
  },
  {
   "cell_type": "code",
   "execution_count": 12,
   "metadata": {
    "scrolled": true
   },
   "outputs": [
    {
     "data": {
      "text/plain": [
       "nan"
      ]
     },
     "execution_count": 12,
     "metadata": {},
     "output_type": "execute_result"
    }
   ],
   "source": [
    "new_tweet.loc[0, \"user_id\"]"
   ]
  },
  {
   "cell_type": "code",
   "execution_count": 13,
   "metadata": {},
   "outputs": [
    {
     "data": {
      "text/html": [
       "<div>\n",
       "<style scoped>\n",
       "    .dataframe tbody tr th:only-of-type {\n",
       "        vertical-align: middle;\n",
       "    }\n",
       "\n",
       "    .dataframe tbody tr th {\n",
       "        vertical-align: top;\n",
       "    }\n",
       "\n",
       "    .dataframe thead th {\n",
       "        text-align: right;\n",
       "    }\n",
       "</style>\n",
       "<table border=\"1\" class=\"dataframe\">\n",
       "  <thead>\n",
       "    <tr style=\"text-align: right;\">\n",
       "      <th></th>\n",
       "      <th>user_id</th>\n",
       "      <th>user_handle</th>\n",
       "      <th>user_loc</th>\n",
       "      <th>user_desc</th>\n",
       "      <th>tweet_text</th>\n",
       "      <th>tweet_id</th>\n",
       "      <th>tweet_time</th>\n",
       "    </tr>\n",
       "  </thead>\n",
       "  <tbody>\n",
       "    <tr>\n",
       "      <td>0</td>\n",
       "      <td>1234567890</td>\n",
       "      <td>realDonaldTrump</td>\n",
       "      <td>MAGA</td>\n",
       "      <td>bigly</td>\n",
       "      <td></td>\n",
       "      <td>NaN</td>\n",
       "      <td>NaN</td>\n",
       "    </tr>\n",
       "  </tbody>\n",
       "</table>\n",
       "</div>"
      ],
      "text/plain": [
       "      user_id      user_handle user_loc user_desc tweet_text  tweet_id  \\\n",
       "0  1234567890  realDonaldTrump     MAGA     bigly                  NaN   \n",
       "\n",
       "   tweet_time  \n",
       "0         NaN  "
      ]
     },
     "execution_count": 13,
     "metadata": {},
     "output_type": "execute_result"
    }
   ],
   "source": [
    "new_tweet.loc[0, \"user_id\"] = \"1234567890\"\n",
    "new_tweet.loc[0, \"user_handle\"] = \"realDonaldTrump\"\n",
    "new_tweet.loc[0, \"user_loc\"] = \"MAGA\"\n",
    "new_tweet.loc[0, \"user_desc\"] = \"bigly\"\n",
    "new_tweet.loc[0, \"tweet_text\"] = \"\"\n",
    "new_tweet"
   ]
  },
  {
   "cell_type": "code",
   "execution_count": 14,
   "metadata": {},
   "outputs": [],
   "source": [
    "df_temp = df_temp.append(new_tweet, ignore_index=True)\n",
    "#want to create a new row and add to the big data set. \n",
    "#ignore means that the data will be add and keepthe normal counting"
   ]
  },
  {
   "cell_type": "code",
   "execution_count": 15,
   "metadata": {},
   "outputs": [
    {
     "data": {
      "text/html": [
       "<div>\n",
       "<style scoped>\n",
       "    .dataframe tbody tr th:only-of-type {\n",
       "        vertical-align: middle;\n",
       "    }\n",
       "\n",
       "    .dataframe tbody tr th {\n",
       "        vertical-align: top;\n",
       "    }\n",
       "\n",
       "    .dataframe thead th {\n",
       "        text-align: right;\n",
       "    }\n",
       "</style>\n",
       "<table border=\"1\" class=\"dataframe\">\n",
       "  <thead>\n",
       "    <tr style=\"text-align: right;\">\n",
       "      <th></th>\n",
       "      <th>user_id</th>\n",
       "      <th>user_handle</th>\n",
       "      <th>user_loc</th>\n",
       "      <th>user_desc</th>\n",
       "      <th>tweet_text</th>\n",
       "      <th>tweet_id</th>\n",
       "      <th>tweet_time</th>\n",
       "    </tr>\n",
       "  </thead>\n",
       "  <tbody>\n",
       "    <tr>\n",
       "      <td>0</td>\n",
       "      <td>2.52063e+08</td>\n",
       "      <td>John_Perry_UK</td>\n",
       "      <td>Havant Constituency</td>\n",
       "      <td>2015, 2017 &amp; 20xx GE Candidate. Havant Residen...</td>\n",
       "      <td>NaN</td>\n",
       "      <td>1.133630e+18</td>\n",
       "      <td>29/05/2019 07:04</td>\n",
       "    </tr>\n",
       "    <tr>\n",
       "      <td>1</td>\n",
       "      <td>2.47105e+09</td>\n",
       "      <td>Jeankellie1</td>\n",
       "      <td>NaN</td>\n",
       "      <td>NaN</td>\n",
       "      <td>NaN</td>\n",
       "      <td>1.133630e+18</td>\n",
       "      <td>29/05/2019 07:04</td>\n",
       "    </tr>\n",
       "    <tr>\n",
       "      <td>2</td>\n",
       "      <td>8.5633e+17</td>\n",
       "      <td>Mash_uk77</td>\n",
       "      <td>Manor park</td>\n",
       "      <td>Father of three, joined labour after JC was el...</td>\n",
       "      <td>#RT PeterStefanovi2: RT Harryslaststand: With ...</td>\n",
       "      <td>1.133630e+18</td>\n",
       "      <td>29/05/2019 07:04</td>\n",
       "    </tr>\n",
       "    <tr>\n",
       "      <td>3</td>\n",
       "      <td>3.07539e+09</td>\n",
       "      <td>w0rldlyw1se</td>\n",
       "      <td>England - UK - Out of EU</td>\n",
       "      <td>Topical comment on topical matters. Many a tru...</td>\n",
       "      <td>NaN</td>\n",
       "      <td>1.133630e+18</td>\n",
       "      <td>29/05/2019 07:04</td>\n",
       "    </tr>\n",
       "    <tr>\n",
       "      <td>4</td>\n",
       "      <td>8.82885e+17</td>\n",
       "      <td>TheLeftWingUK</td>\n",
       "      <td>United Kingdom</td>\n",
       "      <td>#leftwing #politics news aggregator. Get the n...</td>\n",
       "      <td>John Bercow defies Eurosceptics with vow to st...</td>\n",
       "      <td>1.133630e+18</td>\n",
       "      <td>29/05/2019 07:04</td>\n",
       "    </tr>\n",
       "    <tr>\n",
       "      <td>...</td>\n",
       "      <td>...</td>\n",
       "      <td>...</td>\n",
       "      <td>...</td>\n",
       "      <td>...</td>\n",
       "      <td>...</td>\n",
       "      <td>...</td>\n",
       "      <td>...</td>\n",
       "    </tr>\n",
       "    <tr>\n",
       "      <td>97</td>\n",
       "      <td>1.8428e+07</td>\n",
       "      <td>bridgetmck</td>\n",
       "      <td>London, England</td>\n",
       "      <td>Director @Flow_ers1 Museums, arts, learning, f...</td>\n",
       "      <td>NaN</td>\n",
       "      <td>1.129700e+18</td>\n",
       "      <td>18/05/2019 11:02</td>\n",
       "    </tr>\n",
       "    <tr>\n",
       "      <td>98</td>\n",
       "      <td>8.23506e+07</td>\n",
       "      <td>marciojmsilva</td>\n",
       "      <td>Lousada, Portugal</td>\n",
       "      <td>Living life, one day after another. One day at...</td>\n",
       "      <td>Primeira-ministra britânica urge sucessor a pr...</td>\n",
       "      <td>1.133630e+18</td>\n",
       "      <td>29/05/2019 07:04</td>\n",
       "    </tr>\n",
       "    <tr>\n",
       "      <td>99</td>\n",
       "      <td>9.88311e+17</td>\n",
       "      <td>boxster_porsche</td>\n",
       "      <td>Earth</td>\n",
       "      <td>Live\\nLove\\nForgive\\nDrive</td>\n",
       "      <td>NaN</td>\n",
       "      <td>1.129700e+18</td>\n",
       "      <td>18/05/2019 11:02</td>\n",
       "    </tr>\n",
       "    <tr>\n",
       "      <td>100</td>\n",
       "      <td>8.73873e+17</td>\n",
       "      <td>Rene16437696</td>\n",
       "      <td>Midlothian Scotland</td>\n",
       "      <td>Happily retired.snp http://member.love Scotlan...</td>\n",
       "      <td>NaN</td>\n",
       "      <td>1.133630e+18</td>\n",
       "      <td>29/05/2019 07:04</td>\n",
       "    </tr>\n",
       "    <tr>\n",
       "      <td>101</td>\n",
       "      <td>1234567890</td>\n",
       "      <td>realDonaldTrump</td>\n",
       "      <td>MAGA</td>\n",
       "      <td>bigly</td>\n",
       "      <td></td>\n",
       "      <td>NaN</td>\n",
       "      <td>NaN</td>\n",
       "    </tr>\n",
       "  </tbody>\n",
       "</table>\n",
       "<p>102 rows × 7 columns</p>\n",
       "</div>"
      ],
      "text/plain": [
       "         user_id      user_handle                  user_loc  \\\n",
       "0    2.52063e+08    John_Perry_UK       Havant Constituency   \n",
       "1    2.47105e+09      Jeankellie1                       NaN   \n",
       "2     8.5633e+17        Mash_uk77                Manor park   \n",
       "3    3.07539e+09      w0rldlyw1se  England - UK - Out of EU   \n",
       "4    8.82885e+17    TheLeftWingUK            United Kingdom   \n",
       "..           ...              ...                       ...   \n",
       "97    1.8428e+07       bridgetmck           London, England   \n",
       "98   8.23506e+07    marciojmsilva         Lousada, Portugal   \n",
       "99   9.88311e+17  boxster_porsche                     Earth   \n",
       "100  8.73873e+17     Rene16437696      Midlothian Scotland    \n",
       "101   1234567890  realDonaldTrump                      MAGA   \n",
       "\n",
       "                                             user_desc  \\\n",
       "0    2015, 2017 & 20xx GE Candidate. Havant Residen...   \n",
       "1                                                  NaN   \n",
       "2    Father of three, joined labour after JC was el...   \n",
       "3    Topical comment on topical matters. Many a tru...   \n",
       "4    #leftwing #politics news aggregator. Get the n...   \n",
       "..                                                 ...   \n",
       "97   Director @Flow_ers1 Museums, arts, learning, f...   \n",
       "98   Living life, one day after another. One day at...   \n",
       "99                          Live\\nLove\\nForgive\\nDrive   \n",
       "100  Happily retired.snp http://member.love Scotlan...   \n",
       "101                                              bigly   \n",
       "\n",
       "                                            tweet_text      tweet_id  \\\n",
       "0                                                  NaN  1.133630e+18   \n",
       "1                                                  NaN  1.133630e+18   \n",
       "2    #RT PeterStefanovi2: RT Harryslaststand: With ...  1.133630e+18   \n",
       "3                                                  NaN  1.133630e+18   \n",
       "4    John Bercow defies Eurosceptics with vow to st...  1.133630e+18   \n",
       "..                                                 ...           ...   \n",
       "97                                                 NaN  1.129700e+18   \n",
       "98   Primeira-ministra britânica urge sucessor a pr...  1.133630e+18   \n",
       "99                                                 NaN  1.129700e+18   \n",
       "100                                                NaN  1.133630e+18   \n",
       "101                                                              NaN   \n",
       "\n",
       "           tweet_time  \n",
       "0    29/05/2019 07:04  \n",
       "1    29/05/2019 07:04  \n",
       "2    29/05/2019 07:04  \n",
       "3    29/05/2019 07:04  \n",
       "4    29/05/2019 07:04  \n",
       "..                ...  \n",
       "97   18/05/2019 11:02  \n",
       "98   29/05/2019 07:04  \n",
       "99   18/05/2019 11:02  \n",
       "100  29/05/2019 07:04  \n",
       "101               NaN  \n",
       "\n",
       "[102 rows x 7 columns]"
      ]
     },
     "execution_count": 15,
     "metadata": {},
     "output_type": "execute_result"
    }
   ],
   "source": [
    "df_temp"
   ]
  },
  {
   "cell_type": "code",
   "execution_count": 16,
   "metadata": {},
   "outputs": [
    {
     "data": {
      "text/plain": [
       "['100-Brexit-Tweets.csv',\n",
       " '101-Brexit-Tweets.csv',\n",
       " '2 time',\n",
       " '2019-12-06_16-43-32.json',\n",
       " 'single-tweet.json',\n",
       " 'time3']"
      ]
     },
     "execution_count": 16,
     "metadata": {},
     "output_type": "execute_result"
    }
   ],
   "source": [
    "#how to save data frame \n",
    "df_temp.to_csv(\"data/101-Brexit-Tweets.csv\")\n",
    "#here you can write another name, and then not overwrite it. \n",
    "os.listdir(\"data\")\n",
    "#works fine until you hit a certain datasize with csv files, for this reason need to learn other way to save it"
   ]
  },
  {
   "cell_type": "code",
   "execution_count": 17,
   "metadata": {},
   "outputs": [
    {
     "data": {
      "text/plain": [
       "'[{\"in_reply_to_user_id_str\": null, \"retweet_count\": 0, \"favorited\": false, \"in_reply_to_status_id\": null, \"timestamp_ms\": \"1575642268140\", \"favorite_count\": 0, \"in_reply_to_screen_name\": null, \"retweeted_status\": {\"in_reply_to_user_id_str\": null, \"retweet_count\": 8068, \"favorited\": false, \"in_reply_to_status_id\": null, \"favorite_count\": 36096, \"in_reply_to_screen_name\": null, \"contributors\": null, \"reply_count\": 1461, \"in_reply_to_status_id_str\": null, \"in_reply_to_user_id\": null, \"truncated\": true, \"retweeted\": false, \"place\": null, \"quote_count\": 655, \"id_str\": \"1202930969830985728\", \"coordinates\": null, \"extended_tweet\": {\"display_text_range\": [0, 280], \"entities\": {\"hashtags\": [], \"symbols\": [], \"urls\": [], \"user_mentions\": []}, \"full_text\": \"If some accuse me of talking to both sides in the Brexit debate then so be it. I\\\\u2019m proud of it.\\\\n\\\\nWhy would I only want to talk to half the country? I don\\\\u2019t want to live in half a country.\\\\n\\\\nA prime minister must talk and listen to everyone - and bring our divided country together.\"}, \"geo\": null, \"lang\": \"en\", \"text\": \"If some accuse me of talking to both sides in the Brexit debate then so be it. I\\\\u2019m proud of it.\\\\n\\\\nWhy would I only w\\\\u2026 https://t.co/IReDDMuYTH\", \"user\": {\"time_zone\": null, \"notifications\": null, \"profile_background_color\": \"131516\", \"profile_sidebar_fill_color\": \"000000\", \"profile_background_image_url\": \"http://abs.twimg.com/images/themes/theme14/bg.gif\", \"protected\": false, \"friends_count\": 2650, \"profile_banner_url\": \"https://pbs.twimg.com/profile_banners/117777690/1506521898\", \"is_translator\": false, \"geo_enabled\": true, \"profile_image_url_https\": \"https://pbs.twimg.com/profile_images/1197846676578426880/EiaPjwTi_normal.jpg\", \"profile_sidebar_border_color\": \"000000\", \"profile_image_url\": \"http://pbs.twimg.com/profile_images/1197846676578426880/EiaPjwTi_normal.jpg\", \"description\": \"Leader of the Labour Party.\", \"location\": \"UK\", \"followers_count\": 2248731, \"url\": \"https://volunteer.labour.org.uk/\", \"statuses_count\": 13704, \"profile_text_color\": \"000000\", \"id_str\": \"117777690\", \"contributors_enabled\": false, \"following\": null, \"translator_type\": \"none\", \"utc_offset\": null, \"default_profile\": false, \"lang\": null, \"default_profile_image\": false, \"follow_request_sent\": null, \"profile_link_color\": \"009999\", \"profile_background_image_url_https\": \"https://abs.twimg.com/images/themes/theme14/bg.gif\", \"id\": 117777690, \"verified\": true, \"favourites_count\": 248, \"profile_use_background_image\": true, \"listed_count\": 7762, \"profile_background_tile\": true, \"name\": \"Jeremy Corbyn\", \"created_at\": \"Fri Feb 26 15:45:23 +0000 2010\", \"screen_name\": \"jeremycorbyn\"}, \"created_at\": \"Fri Dec 06 12:41:07 +0000 2019\", \"source\": \"<a href=\\\\\"https://mobile.twitter.com\\\\\" rel=\\\\\"nofollow\\\\\">Twitter Web App</a>\", \"id\": 1202930969830985728, \"entities\": {\"hashtags\": [], \"symbols\": [], \"urls\": [{\"expanded_url\": \"https://twitter.com/i/web/status/1202930969830985728\", \"indices\": [117, 140], \"url\": \"https://t.co/IReDDMuYTH\", \"display_url\": \"twitter.com/i/web/status/1\\\\u2026\"}], \"user_mentions\": []}, \"filter_level\": \"low\", \"is_quote_status\": false}, \"reply_count\": 0, \"in_reply_to_status_id_str\": null, \"in_reply_to_user_id\": null, \"truncated\": false, \"retweeted\": false, \"contributors\": null, \"place\": null, \"quote_count\": 0, \"id_str\": \"1202956978286452738\", \"coordinates\": null, \"geo\": null, \"lang\": \"en\", \"text\": \"RT @jeremycorbyn: If some accuse me of talking to both sides in the Brexit debate then so be it. I\\\\u2019m proud of it.\\\\n\\\\nWhy would I only want to\\\\u2026\", \"user\": {\"time_zone\": null, \"notifications\": null, \"profile_background_color\": \"C0DEED\", \"profile_sidebar_fill_color\": \"DDEEF6\", \"profile_background_image_url\": \"http://abs.twimg.com/images/themes/theme1/bg.png\", \"protected\": false, \"friends_count\": 614, \"is_translator\": false, \"geo_enabled\": true, \"profile_image_url_https\": \"https://pbs.twimg.com/profile_images/948960672272060416/eDqUj4Ni_normal.jpg\", \"profile_sidebar_border_color\": \"C0DEED\", \"profile_image_url\": \"http://pbs.twimg.com/profile_images/948960672272060416/eDqUj4Ni_normal.jpg\", \"description\": \"British liberal, artist, check out my instagram page rob_burch_arts.\", \"location\": \"Northampton, England\", \"followers_count\": 230, \"url\": null, \"statuses_count\": 40775, \"profile_text_color\": \"333333\", \"id_str\": \"2496109354\", \"contributors_enabled\": false, \"following\": null, \"translator_type\": \"none\", \"utc_offset\": null, \"default_profile\": true, \"lang\": null, \"default_profile_image\": false, \"follow_request_sent\": null, \"profile_link_color\": \"1DA1F2\", \"profile_background_image_url_https\": \"https://abs.twimg.com/images/themes/theme1/bg.png\", \"id\": 2496109354, \"verified\": false, \"favourites_count\": 30169, \"profile_use_background_image\": true, \"listed_count\": 2, \"profile_background_tile\": false, \"name\": \"robert\", \"created_at\": \"Sun Apr 20 01:48:49 +0000 2014\", \"screen_name\": \"rb218702\"}, \"created_at\": \"Fri Dec 06 14:24:28 +0000 2019\", \"source\": \"<a href=\\\\\"http://twitter.com/download/iphone\\\\\" rel=\\\\\"nofollow\\\\\">Twitter for iPhone</a>\", \"id\": 1202956978286452738, \"entities\": {\"hashtags\": [], \"symbols\": [], \"urls\": [], \"user_mentions\": [{\"indices\": [3, 16], \"id_str\": \"117777690\", \"id\": 117777690, \"name\": \"Jeremy Corbyn\", \"screen_name\": \"jeremycorbyn\"}]}, \"filter_level\": \"low\", \"is_quote_status\": false}]'"
      ]
     },
     "execution_count": 17,
     "metadata": {},
     "output_type": "execute_result"
    }
   ],
   "source": [
    "tweet = open(\"data/single-tweet.json\").read()\n",
    "tweet"
   ]
  },
  {
   "cell_type": "code",
   "execution_count": 18,
   "metadata": {},
   "outputs": [
    {
     "data": {
      "text/plain": [
       "[{'in_reply_to_user_id_str': None,\n",
       "  'retweet_count': 0,\n",
       "  'favorited': False,\n",
       "  'in_reply_to_status_id': None,\n",
       "  'timestamp_ms': '1575642268140',\n",
       "  'favorite_count': 0,\n",
       "  'in_reply_to_screen_name': None,\n",
       "  'retweeted_status': {'in_reply_to_user_id_str': None,\n",
       "   'retweet_count': 8068,\n",
       "   'favorited': False,\n",
       "   'in_reply_to_status_id': None,\n",
       "   'favorite_count': 36096,\n",
       "   'in_reply_to_screen_name': None,\n",
       "   'contributors': None,\n",
       "   'reply_count': 1461,\n",
       "   'in_reply_to_status_id_str': None,\n",
       "   'in_reply_to_user_id': None,\n",
       "   'truncated': True,\n",
       "   'retweeted': False,\n",
       "   'place': None,\n",
       "   'quote_count': 655,\n",
       "   'id_str': '1202930969830985728',\n",
       "   'coordinates': None,\n",
       "   'extended_tweet': {'display_text_range': [0, 280],\n",
       "    'entities': {'hashtags': [],\n",
       "     'symbols': [],\n",
       "     'urls': [],\n",
       "     'user_mentions': []},\n",
       "    'full_text': 'If some accuse me of talking to both sides in the Brexit debate then so be it. I’m proud of it.\\n\\nWhy would I only want to talk to half the country? I don’t want to live in half a country.\\n\\nA prime minister must talk and listen to everyone - and bring our divided country together.'},\n",
       "   'geo': None,\n",
       "   'lang': 'en',\n",
       "   'text': 'If some accuse me of talking to both sides in the Brexit debate then so be it. I’m proud of it.\\n\\nWhy would I only w… https://t.co/IReDDMuYTH',\n",
       "   'user': {'time_zone': None,\n",
       "    'notifications': None,\n",
       "    'profile_background_color': '131516',\n",
       "    'profile_sidebar_fill_color': '000000',\n",
       "    'profile_background_image_url': 'http://abs.twimg.com/images/themes/theme14/bg.gif',\n",
       "    'protected': False,\n",
       "    'friends_count': 2650,\n",
       "    'profile_banner_url': 'https://pbs.twimg.com/profile_banners/117777690/1506521898',\n",
       "    'is_translator': False,\n",
       "    'geo_enabled': True,\n",
       "    'profile_image_url_https': 'https://pbs.twimg.com/profile_images/1197846676578426880/EiaPjwTi_normal.jpg',\n",
       "    'profile_sidebar_border_color': '000000',\n",
       "    'profile_image_url': 'http://pbs.twimg.com/profile_images/1197846676578426880/EiaPjwTi_normal.jpg',\n",
       "    'description': 'Leader of the Labour Party.',\n",
       "    'location': 'UK',\n",
       "    'followers_count': 2248731,\n",
       "    'url': 'https://volunteer.labour.org.uk/',\n",
       "    'statuses_count': 13704,\n",
       "    'profile_text_color': '000000',\n",
       "    'id_str': '117777690',\n",
       "    'contributors_enabled': False,\n",
       "    'following': None,\n",
       "    'translator_type': 'none',\n",
       "    'utc_offset': None,\n",
       "    'default_profile': False,\n",
       "    'lang': None,\n",
       "    'default_profile_image': False,\n",
       "    'follow_request_sent': None,\n",
       "    'profile_link_color': '009999',\n",
       "    'profile_background_image_url_https': 'https://abs.twimg.com/images/themes/theme14/bg.gif',\n",
       "    'id': 117777690,\n",
       "    'verified': True,\n",
       "    'favourites_count': 248,\n",
       "    'profile_use_background_image': True,\n",
       "    'listed_count': 7762,\n",
       "    'profile_background_tile': True,\n",
       "    'name': 'Jeremy Corbyn',\n",
       "    'created_at': 'Fri Feb 26 15:45:23 +0000 2010',\n",
       "    'screen_name': 'jeremycorbyn'},\n",
       "   'created_at': 'Fri Dec 06 12:41:07 +0000 2019',\n",
       "   'source': '<a href=\"https://mobile.twitter.com\" rel=\"nofollow\">Twitter Web App</a>',\n",
       "   'id': 1202930969830985728,\n",
       "   'entities': {'hashtags': [],\n",
       "    'symbols': [],\n",
       "    'urls': [{'expanded_url': 'https://twitter.com/i/web/status/1202930969830985728',\n",
       "      'indices': [117, 140],\n",
       "      'url': 'https://t.co/IReDDMuYTH',\n",
       "      'display_url': 'twitter.com/i/web/status/1…'}],\n",
       "    'user_mentions': []},\n",
       "   'filter_level': 'low',\n",
       "   'is_quote_status': False},\n",
       "  'reply_count': 0,\n",
       "  'in_reply_to_status_id_str': None,\n",
       "  'in_reply_to_user_id': None,\n",
       "  'truncated': False,\n",
       "  'retweeted': False,\n",
       "  'contributors': None,\n",
       "  'place': None,\n",
       "  'quote_count': 0,\n",
       "  'id_str': '1202956978286452738',\n",
       "  'coordinates': None,\n",
       "  'geo': None,\n",
       "  'lang': 'en',\n",
       "  'text': 'RT @jeremycorbyn: If some accuse me of talking to both sides in the Brexit debate then so be it. I’m proud of it.\\n\\nWhy would I only want to…',\n",
       "  'user': {'time_zone': None,\n",
       "   'notifications': None,\n",
       "   'profile_background_color': 'C0DEED',\n",
       "   'profile_sidebar_fill_color': 'DDEEF6',\n",
       "   'profile_background_image_url': 'http://abs.twimg.com/images/themes/theme1/bg.png',\n",
       "   'protected': False,\n",
       "   'friends_count': 614,\n",
       "   'is_translator': False,\n",
       "   'geo_enabled': True,\n",
       "   'profile_image_url_https': 'https://pbs.twimg.com/profile_images/948960672272060416/eDqUj4Ni_normal.jpg',\n",
       "   'profile_sidebar_border_color': 'C0DEED',\n",
       "   'profile_image_url': 'http://pbs.twimg.com/profile_images/948960672272060416/eDqUj4Ni_normal.jpg',\n",
       "   'description': 'British liberal, artist, check out my instagram page rob_burch_arts.',\n",
       "   'location': 'Northampton, England',\n",
       "   'followers_count': 230,\n",
       "   'url': None,\n",
       "   'statuses_count': 40775,\n",
       "   'profile_text_color': '333333',\n",
       "   'id_str': '2496109354',\n",
       "   'contributors_enabled': False,\n",
       "   'following': None,\n",
       "   'translator_type': 'none',\n",
       "   'utc_offset': None,\n",
       "   'default_profile': True,\n",
       "   'lang': None,\n",
       "   'default_profile_image': False,\n",
       "   'follow_request_sent': None,\n",
       "   'profile_link_color': '1DA1F2',\n",
       "   'profile_background_image_url_https': 'https://abs.twimg.com/images/themes/theme1/bg.png',\n",
       "   'id': 2496109354,\n",
       "   'verified': False,\n",
       "   'favourites_count': 30169,\n",
       "   'profile_use_background_image': True,\n",
       "   'listed_count': 2,\n",
       "   'profile_background_tile': False,\n",
       "   'name': 'robert',\n",
       "   'created_at': 'Sun Apr 20 01:48:49 +0000 2014',\n",
       "   'screen_name': 'rb218702'},\n",
       "  'created_at': 'Fri Dec 06 14:24:28 +0000 2019',\n",
       "  'source': '<a href=\"http://twitter.com/download/iphone\" rel=\"nofollow\">Twitter for iPhone</a>',\n",
       "  'id': 1202956978286452738,\n",
       "  'entities': {'hashtags': [],\n",
       "   'symbols': [],\n",
       "   'urls': [],\n",
       "   'user_mentions': [{'indices': [3, 16],\n",
       "     'id_str': '117777690',\n",
       "     'id': 117777690,\n",
       "     'name': 'Jeremy Corbyn',\n",
       "     'screen_name': 'jeremycorbyn'}]},\n",
       "  'filter_level': 'low',\n",
       "  'is_quote_status': False}]"
      ]
     },
     "execution_count": 18,
     "metadata": {},
     "output_type": "execute_result"
    }
   ],
   "source": [
    "tweet = json.loads(tweet)\n",
    "tweet"
   ]
  },
  {
   "cell_type": "code",
   "execution_count": 19,
   "metadata": {},
   "outputs": [
    {
     "data": {
      "text/plain": [
       "list"
      ]
     },
     "execution_count": 19,
     "metadata": {},
     "output_type": "execute_result"
    }
   ],
   "source": [
    "type(tweet)"
   ]
  },
  {
   "cell_type": "code",
   "execution_count": 20,
   "metadata": {},
   "outputs": [
    {
     "data": {
      "text/plain": [
       "dict"
      ]
     },
     "execution_count": 20,
     "metadata": {},
     "output_type": "execute_result"
    }
   ],
   "source": [
    "type(tweet[0])"
   ]
  },
  {
   "cell_type": "code",
   "execution_count": 21,
   "metadata": {
    "scrolled": true
   },
   "outputs": [
    {
     "data": {
      "text/plain": [
       "{'time_zone': None,\n",
       " 'notifications': None,\n",
       " 'profile_background_color': 'C0DEED',\n",
       " 'profile_sidebar_fill_color': 'DDEEF6',\n",
       " 'profile_background_image_url': 'http://abs.twimg.com/images/themes/theme1/bg.png',\n",
       " 'protected': False,\n",
       " 'friends_count': 614,\n",
       " 'is_translator': False,\n",
       " 'geo_enabled': True,\n",
       " 'profile_image_url_https': 'https://pbs.twimg.com/profile_images/948960672272060416/eDqUj4Ni_normal.jpg',\n",
       " 'profile_sidebar_border_color': 'C0DEED',\n",
       " 'profile_image_url': 'http://pbs.twimg.com/profile_images/948960672272060416/eDqUj4Ni_normal.jpg',\n",
       " 'description': 'British liberal, artist, check out my instagram page rob_burch_arts.',\n",
       " 'location': 'Northampton, England',\n",
       " 'followers_count': 230,\n",
       " 'url': None,\n",
       " 'statuses_count': 40775,\n",
       " 'profile_text_color': '333333',\n",
       " 'id_str': '2496109354',\n",
       " 'contributors_enabled': False,\n",
       " 'following': None,\n",
       " 'translator_type': 'none',\n",
       " 'utc_offset': None,\n",
       " 'default_profile': True,\n",
       " 'lang': None,\n",
       " 'default_profile_image': False,\n",
       " 'follow_request_sent': None,\n",
       " 'profile_link_color': '1DA1F2',\n",
       " 'profile_background_image_url_https': 'https://abs.twimg.com/images/themes/theme1/bg.png',\n",
       " 'id': 2496109354,\n",
       " 'verified': False,\n",
       " 'favourites_count': 30169,\n",
       " 'profile_use_background_image': True,\n",
       " 'listed_count': 2,\n",
       " 'profile_background_tile': False,\n",
       " 'name': 'robert',\n",
       " 'created_at': 'Sun Apr 20 01:48:49 +0000 2014',\n",
       " 'screen_name': 'rb218702'}"
      ]
     },
     "execution_count": 21,
     "metadata": {},
     "output_type": "execute_result"
    }
   ],
   "source": [
    "tweet[0][\"user\"]"
   ]
  },
  {
   "cell_type": "code",
   "execution_count": 22,
   "metadata": {},
   "outputs": [
    {
     "data": {
      "text/plain": [
       "dict_keys(['in_reply_to_user_id_str', 'retweet_count', 'favorited', 'in_reply_to_status_id', 'timestamp_ms', 'favorite_count', 'in_reply_to_screen_name', 'retweeted_status', 'reply_count', 'in_reply_to_status_id_str', 'in_reply_to_user_id', 'truncated', 'retweeted', 'contributors', 'place', 'quote_count', 'id_str', 'coordinates', 'geo', 'lang', 'text', 'user', 'created_at', 'source', 'id', 'entities', 'filter_level', 'is_quote_status'])"
      ]
     },
     "execution_count": 22,
     "metadata": {},
     "output_type": "execute_result"
    }
   ],
   "source": [
    "tweet[0].keys()"
   ]
  },
  {
   "cell_type": "code",
   "execution_count": 23,
   "metadata": {},
   "outputs": [],
   "source": [
    "json_data = open(\"data/2019-12-06_16-43-32.json\").read()\n",
    "json_data = json.loads(json_data)"
   ]
  },
  {
   "cell_type": "code",
   "execution_count": 24,
   "metadata": {
    "scrolled": true
   },
   "outputs": [
    {
     "data": {
      "text/plain": [
       "'{\"created_at\":\"Fri Dec 06 14:24:28 +0000 2019\",\"id\":1202956978286452738,\"id_str\":\"1202956978286452738\",\"text\":\"RT @jeremycorbyn: If some accuse me of talking to both sides in the Brexit debate then so be it. I\\\\u2019m proud of it.\\\\n\\\\nWhy would I only want to\\\\u2026\",\"source\":\"\\\\u003ca href=\\\\\"http:\\\\/\\\\/twitter.com\\\\/download\\\\/iphone\\\\\" rel=\\\\\"nofollow\\\\\"\\\\u003eTwitter for iPhone\\\\u003c\\\\/a\\\\u003e\",\"truncated\":false,\"in_reply_to_status_id\":null,\"in_reply_to_status_id_str\":null,\"in_reply_to_user_id\":null,\"in_reply_to_user_id_str\":null,\"in_reply_to_screen_name\":null,\"user\":{\"id\":2496109354,\"id_str\":\"2496109354\",\"name\":\"robert\",\"screen_name\":\"rb218702\",\"location\":\"Northampton, England\",\"url\":null,\"description\":\"British liberal, artist, check out my instagram page rob_burch_arts.\",\"translator_type\":\"none\",\"protected\":false,\"verified\":false,\"followers_count\":230,\"friends_count\":614,\"listed_count\":2,\"favourites_count\":30169,\"statuses_count\":40775,\"created_at\":\"Sun Apr 20 01:48:49 +0000 2014\",\"utc_offset\":null,\"time_zone\":null,\"geo_enabled\":true,\"lang\":null,\"contributors_enabled\":false,\"is_translator\":false,\"profile_background_color\":\"C0DEED\",\"profile_background_image_url\":\"http:\\\\/\\\\/abs.twimg.com\\\\/images\\\\/themes\\\\/theme1\\\\/bg.png\",\"profile_background_image_url_https\":\"https:\\\\/\\\\/abs.twimg.com\\\\/images\\\\/themes\\\\/theme1\\\\/bg.png\",\"profile_background_tile\":false,\"profile_link_color\":\"1DA1F2\",\"profile_sidebar_border_color\":\"C0DEED\",\"profile_sidebar_fill_color\":\"DDEEF6\",\"profile_text_color\":\"333333\",\"profile_use_background_image\":true,\"profile_image_url\":\"http:\\\\/\\\\/pbs.twimg.com\\\\/profile_images\\\\/948960672272060416\\\\/eDqUj4Ni_normal.jpg\",\"profile_image_url_https\":\"https:\\\\/\\\\/pbs.twimg.com\\\\/profile_images\\\\/948960672272060416\\\\/eDqUj4Ni_normal.jpg\",\"default_profile\":true,\"default_profile_image\":false,\"following\":null,\"follow_request_sent\":null,\"notifications\":null},\"geo\":null,\"coordinates\":null,\"place\":null,\"contributors\":null,\"retweeted_status\":{\"created_at\":\"Fri Dec 06 12:41:07 +0000 2019\",\"id\":1202930969830985728,\"id_str\":\"1202930969830985728\",\"text\":\"If some accuse me of talking to both sides in the Brexit debate then so be it. I\\\\u2019m proud of it.\\\\n\\\\nWhy would I only w\\\\u2026 https:\\\\/\\\\/t.co\\\\/IReDDMuYTH\",\"source\":\"\\\\u003ca href=\\\\\"https:\\\\/\\\\/mobile.twitter.com\\\\\" rel=\\\\\"nofollow\\\\\"\\\\u003eTwitter Web App\\\\u003c\\\\/a\\\\u003e\",\"truncated\":true,\"in_reply_to_status_id\":null,\"in_reply_to_status_id_str\":null,\"in_reply_to_user_id\":null,\"in_reply_to_user_id_str\":null,\"in_reply_to_screen_name\":null,\"user\":{\"id\":117777690,\"id_str\":\"117777690\",\"name\":\"Jeremy Corbyn\",\"screen_name\":\"jeremycorbyn\",\"location\":\"UK\",\"url\":\"https:\\\\/\\\\/volunteer.labour.org.uk\\\\/\",\"description\":\"Leader of the Labour Party.\",\"translator_type\":\"none\",\"protected\":false,\"verified\":true,\"followers_count\":2248731,\"friends_count\":2650,\"listed_count\":7762,\"favourites_count\":248,\"statuses_count\":13704,\"created_at\":\"Fri Feb 26 15:45:23 +0000 2010\",\"utc_offset\":null,\"time_zone\":null,\"geo_enabled\":true,\"lang\":null,\"contributors_enabled\":false,\"is_translator\":false,\"profile_background_color\":\"131516\",\"profile_background_image_url\":\"http:\\\\/\\\\/abs.twimg.com\\\\/images\\\\/themes\\\\/theme14\\\\/bg.gif\",\"profile_background_image_url_https\":\"https:\\\\/\\\\/abs.twimg.com\\\\/images\\\\/themes\\\\/theme14\\\\/bg.gif\",\"profile_background_tile\":true,\"profile_link_color\":\"009999\",\"profile_sidebar_border_color\":\"000000\",\"profile_sidebar_fill_color\":\"000000\",\"profile_text_color\":\"000000\",\"profile_use_background_image\":true,\"profile_image_url\":\"http:\\\\/\\\\/pbs.twimg.com\\\\/profile_images\\\\/1197846676578426880\\\\/EiaPjwTi_normal.jpg\",\"profile_image_url_https\":\"https:\\\\/\\\\/pbs.twimg.com\\\\/profile_images\\\\/1197846676578426880\\\\/EiaPjwTi_normal.jpg\",\"profile_banner_url\":\"https:\\\\/\\\\/pbs.twimg.com\\\\/profile_banners\\\\/117777690\\\\/1506521898\",\"default_profile\":false,\"default_profile_image\":false,\"following\":null,\"follow_request_sent\":null,\"notifications\":null},\"geo\":null,\"coordinates\":null,\"place\":null,\"contributors\":null,\"is_quote_status\":false,\"extended_tweet\":{\"full_text\":\"If some accuse me of talking to both sides in the Brexit debate then so be it. I\\\\u2019m proud of it.\\\\n\\\\nWhy would I only want to talk to half the country? I don\\\\u2019t want to live in half a country.\\\\n\\\\nA prime minister must talk and listen to everyone - and bring our divided country together.\",\"display_text_range\":[0,280],\"entities\":{\"hashtags\":[],\"urls\":[],\"user_mentions\":[],\"symbols\":[]}},\"quote_count\":655,\"reply_count\":1461,\"retweet_count\":8068,\"favorite_count\":36096,\"entities\":{\"hashtags\":[],\"urls\":[{\"url\":\"https:\\\\/\\\\/t.co\\\\/IReDDMuYTH\",\"expanded_url\":\"https:\\\\/\\\\/twitter.com\\\\/i\\\\/web\\\\/status\\\\/1202930969830985728\",\"display_url\":\"twitter.com\\\\/i\\\\/web\\\\/status\\\\/1\\\\u2026\",\"indices\":[117,140]}],\"user_mentions\":[],\"symbols\":[]},\"favorited\":false,\"retweeted\":false,\"filter_level\":\"low\",\"lang\":\"en\"},\"is_quote_status\":false,\"quote_count\":0,\"reply_count\":0,\"retweet_count\":0,\"favorite_count\":0,\"entities\":{\"hashtags\":[],\"urls\":[],\"user_mentions\":[{\"screen_name\":\"jeremycorbyn\",\"name\":\"Jeremy Corbyn\",\"id\":117777690,\"id_str\":\"117777690\",\"indices\":[3,16]}],\"symbols\":[]},\"favorited\":false,\"retweeted\":false,\"filter_level\":\"low\",\"lang\":\"en\",\"timestamp_ms\":\"1575642268140\"}\\r\\n'"
      ]
     },
     "execution_count": 24,
     "metadata": {},
     "output_type": "execute_result"
    }
   ],
   "source": [
    "type(json_data)\n",
    "len(json_data)\n",
    "type(json_data[0])\n",
    "json_data[0]"
   ]
  },
  {
   "cell_type": "code",
   "execution_count": 25,
   "metadata": {},
   "outputs": [
    {
     "data": {
      "text/plain": [
       "{'created_at': 'Fri Dec 06 14:24:28 +0000 2019',\n",
       " 'id': 1202956978286452738,\n",
       " 'id_str': '1202956978286452738',\n",
       " 'text': 'RT @jeremycorbyn: If some accuse me of talking to both sides in the Brexit debate then so be it. I’m proud of it.\\n\\nWhy would I only want to…',\n",
       " 'source': '<a href=\"http://twitter.com/download/iphone\" rel=\"nofollow\">Twitter for iPhone</a>',\n",
       " 'truncated': False,\n",
       " 'in_reply_to_status_id': None,\n",
       " 'in_reply_to_status_id_str': None,\n",
       " 'in_reply_to_user_id': None,\n",
       " 'in_reply_to_user_id_str': None,\n",
       " 'in_reply_to_screen_name': None,\n",
       " 'user': {'id': 2496109354,\n",
       "  'id_str': '2496109354',\n",
       "  'name': 'robert',\n",
       "  'screen_name': 'rb218702',\n",
       "  'location': 'Northampton, England',\n",
       "  'url': None,\n",
       "  'description': 'British liberal, artist, check out my instagram page rob_burch_arts.',\n",
       "  'translator_type': 'none',\n",
       "  'protected': False,\n",
       "  'verified': False,\n",
       "  'followers_count': 230,\n",
       "  'friends_count': 614,\n",
       "  'listed_count': 2,\n",
       "  'favourites_count': 30169,\n",
       "  'statuses_count': 40775,\n",
       "  'created_at': 'Sun Apr 20 01:48:49 +0000 2014',\n",
       "  'utc_offset': None,\n",
       "  'time_zone': None,\n",
       "  'geo_enabled': True,\n",
       "  'lang': None,\n",
       "  'contributors_enabled': False,\n",
       "  'is_translator': False,\n",
       "  'profile_background_color': 'C0DEED',\n",
       "  'profile_background_image_url': 'http://abs.twimg.com/images/themes/theme1/bg.png',\n",
       "  'profile_background_image_url_https': 'https://abs.twimg.com/images/themes/theme1/bg.png',\n",
       "  'profile_background_tile': False,\n",
       "  'profile_link_color': '1DA1F2',\n",
       "  'profile_sidebar_border_color': 'C0DEED',\n",
       "  'profile_sidebar_fill_color': 'DDEEF6',\n",
       "  'profile_text_color': '333333',\n",
       "  'profile_use_background_image': True,\n",
       "  'profile_image_url': 'http://pbs.twimg.com/profile_images/948960672272060416/eDqUj4Ni_normal.jpg',\n",
       "  'profile_image_url_https': 'https://pbs.twimg.com/profile_images/948960672272060416/eDqUj4Ni_normal.jpg',\n",
       "  'default_profile': True,\n",
       "  'default_profile_image': False,\n",
       "  'following': None,\n",
       "  'follow_request_sent': None,\n",
       "  'notifications': None},\n",
       " 'geo': None,\n",
       " 'coordinates': None,\n",
       " 'place': None,\n",
       " 'contributors': None,\n",
       " 'retweeted_status': {'created_at': 'Fri Dec 06 12:41:07 +0000 2019',\n",
       "  'id': 1202930969830985728,\n",
       "  'id_str': '1202930969830985728',\n",
       "  'text': 'If some accuse me of talking to both sides in the Brexit debate then so be it. I’m proud of it.\\n\\nWhy would I only w… https://t.co/IReDDMuYTH',\n",
       "  'source': '<a href=\"https://mobile.twitter.com\" rel=\"nofollow\">Twitter Web App</a>',\n",
       "  'truncated': True,\n",
       "  'in_reply_to_status_id': None,\n",
       "  'in_reply_to_status_id_str': None,\n",
       "  'in_reply_to_user_id': None,\n",
       "  'in_reply_to_user_id_str': None,\n",
       "  'in_reply_to_screen_name': None,\n",
       "  'user': {'id': 117777690,\n",
       "   'id_str': '117777690',\n",
       "   'name': 'Jeremy Corbyn',\n",
       "   'screen_name': 'jeremycorbyn',\n",
       "   'location': 'UK',\n",
       "   'url': 'https://volunteer.labour.org.uk/',\n",
       "   'description': 'Leader of the Labour Party.',\n",
       "   'translator_type': 'none',\n",
       "   'protected': False,\n",
       "   'verified': True,\n",
       "   'followers_count': 2248731,\n",
       "   'friends_count': 2650,\n",
       "   'listed_count': 7762,\n",
       "   'favourites_count': 248,\n",
       "   'statuses_count': 13704,\n",
       "   'created_at': 'Fri Feb 26 15:45:23 +0000 2010',\n",
       "   'utc_offset': None,\n",
       "   'time_zone': None,\n",
       "   'geo_enabled': True,\n",
       "   'lang': None,\n",
       "   'contributors_enabled': False,\n",
       "   'is_translator': False,\n",
       "   'profile_background_color': '131516',\n",
       "   'profile_background_image_url': 'http://abs.twimg.com/images/themes/theme14/bg.gif',\n",
       "   'profile_background_image_url_https': 'https://abs.twimg.com/images/themes/theme14/bg.gif',\n",
       "   'profile_background_tile': True,\n",
       "   'profile_link_color': '009999',\n",
       "   'profile_sidebar_border_color': '000000',\n",
       "   'profile_sidebar_fill_color': '000000',\n",
       "   'profile_text_color': '000000',\n",
       "   'profile_use_background_image': True,\n",
       "   'profile_image_url': 'http://pbs.twimg.com/profile_images/1197846676578426880/EiaPjwTi_normal.jpg',\n",
       "   'profile_image_url_https': 'https://pbs.twimg.com/profile_images/1197846676578426880/EiaPjwTi_normal.jpg',\n",
       "   'profile_banner_url': 'https://pbs.twimg.com/profile_banners/117777690/1506521898',\n",
       "   'default_profile': False,\n",
       "   'default_profile_image': False,\n",
       "   'following': None,\n",
       "   'follow_request_sent': None,\n",
       "   'notifications': None},\n",
       "  'geo': None,\n",
       "  'coordinates': None,\n",
       "  'place': None,\n",
       "  'contributors': None,\n",
       "  'is_quote_status': False,\n",
       "  'extended_tweet': {'full_text': 'If some accuse me of talking to both sides in the Brexit debate then so be it. I’m proud of it.\\n\\nWhy would I only want to talk to half the country? I don’t want to live in half a country.\\n\\nA prime minister must talk and listen to everyone - and bring our divided country together.',\n",
       "   'display_text_range': [0, 280],\n",
       "   'entities': {'hashtags': [],\n",
       "    'urls': [],\n",
       "    'user_mentions': [],\n",
       "    'symbols': []}},\n",
       "  'quote_count': 655,\n",
       "  'reply_count': 1461,\n",
       "  'retweet_count': 8068,\n",
       "  'favorite_count': 36096,\n",
       "  'entities': {'hashtags': [],\n",
       "   'urls': [{'url': 'https://t.co/IReDDMuYTH',\n",
       "     'expanded_url': 'https://twitter.com/i/web/status/1202930969830985728',\n",
       "     'display_url': 'twitter.com/i/web/status/1…',\n",
       "     'indices': [117, 140]}],\n",
       "   'user_mentions': [],\n",
       "   'symbols': []},\n",
       "  'favorited': False,\n",
       "  'retweeted': False,\n",
       "  'filter_level': 'low',\n",
       "  'lang': 'en'},\n",
       " 'is_quote_status': False,\n",
       " 'quote_count': 0,\n",
       " 'reply_count': 0,\n",
       " 'retweet_count': 0,\n",
       " 'favorite_count': 0,\n",
       " 'entities': {'hashtags': [],\n",
       "  'urls': [],\n",
       "  'user_mentions': [{'screen_name': 'jeremycorbyn',\n",
       "    'name': 'Jeremy Corbyn',\n",
       "    'id': 117777690,\n",
       "    'id_str': '117777690',\n",
       "    'indices': [3, 16]}],\n",
       "  'symbols': []},\n",
       " 'favorited': False,\n",
       " 'retweeted': False,\n",
       " 'filter_level': 'low',\n",
       " 'lang': 'en',\n",
       " 'timestamp_ms': '1575642268140'}"
      ]
     },
     "execution_count": 25,
     "metadata": {},
     "output_type": "execute_result"
    }
   ],
   "source": [
    "# You see that we have a list of 25.000 objects that are of class string.\n",
    "# This means that we have to 'json.loads()' each of these individual\n",
    "# Twitter objects when we work with it first – which we would typically do\n",
    "# in a loop that goes through each of the elements of this list. Let's do\n",
    "# one at a time.\n",
    "tweet = json.loads(json_data[0])\n",
    "tweet\n"
   ]
  },
  {
   "cell_type": "code",
   "execution_count": 26,
   "metadata": {},
   "outputs": [
    {
     "data": {
      "text/plain": [
       "{'id': 2496109354,\n",
       " 'id_str': '2496109354',\n",
       " 'name': 'robert',\n",
       " 'screen_name': 'rb218702',\n",
       " 'location': 'Northampton, England',\n",
       " 'url': None,\n",
       " 'description': 'British liberal, artist, check out my instagram page rob_burch_arts.',\n",
       " 'translator_type': 'none',\n",
       " 'protected': False,\n",
       " 'verified': False,\n",
       " 'followers_count': 230,\n",
       " 'friends_count': 614,\n",
       " 'listed_count': 2,\n",
       " 'favourites_count': 30169,\n",
       " 'statuses_count': 40775,\n",
       " 'created_at': 'Sun Apr 20 01:48:49 +0000 2014',\n",
       " 'utc_offset': None,\n",
       " 'time_zone': None,\n",
       " 'geo_enabled': True,\n",
       " 'lang': None,\n",
       " 'contributors_enabled': False,\n",
       " 'is_translator': False,\n",
       " 'profile_background_color': 'C0DEED',\n",
       " 'profile_background_image_url': 'http://abs.twimg.com/images/themes/theme1/bg.png',\n",
       " 'profile_background_image_url_https': 'https://abs.twimg.com/images/themes/theme1/bg.png',\n",
       " 'profile_background_tile': False,\n",
       " 'profile_link_color': '1DA1F2',\n",
       " 'profile_sidebar_border_color': 'C0DEED',\n",
       " 'profile_sidebar_fill_color': 'DDEEF6',\n",
       " 'profile_text_color': '333333',\n",
       " 'profile_use_background_image': True,\n",
       " 'profile_image_url': 'http://pbs.twimg.com/profile_images/948960672272060416/eDqUj4Ni_normal.jpg',\n",
       " 'profile_image_url_https': 'https://pbs.twimg.com/profile_images/948960672272060416/eDqUj4Ni_normal.jpg',\n",
       " 'default_profile': True,\n",
       " 'default_profile_image': False,\n",
       " 'following': None,\n",
       " 'follow_request_sent': None,\n",
       " 'notifications': None}"
      ]
     },
     "execution_count": 26,
     "metadata": {},
     "output_type": "execute_result"
    }
   ],
   "source": [
    "# In order to explore this object, we can use the subsetting \n",
    "# functionalities of dictioanries that we covered in the last two classes:\n",
    "tweet['user']"
   ]
  },
  {
   "cell_type": "code",
   "execution_count": 27,
   "metadata": {},
   "outputs": [
    {
     "data": {
      "text/plain": [
       "[{'in_reply_to_user_id_str': None,\n",
       "  'retweet_count': 0,\n",
       "  'favorited': False,\n",
       "  'in_reply_to_status_id': None,\n",
       "  'timestamp_ms': '1575642268140',\n",
       "  'favorite_count': 0,\n",
       "  'in_reply_to_screen_name': None,\n",
       "  'retweeted_status': {'in_reply_to_user_id_str': None,\n",
       "   'retweet_count': 8068,\n",
       "   'favorited': False,\n",
       "   'in_reply_to_status_id': None,\n",
       "   'favorite_count': 36096,\n",
       "   'in_reply_to_screen_name': None,\n",
       "   'contributors': None,\n",
       "   'reply_count': 1461,\n",
       "   'in_reply_to_status_id_str': None,\n",
       "   'in_reply_to_user_id': None,\n",
       "   'truncated': True,\n",
       "   'retweeted': False,\n",
       "   'place': None,\n",
       "   'quote_count': 655,\n",
       "   'id_str': '1202930969830985728',\n",
       "   'coordinates': None,\n",
       "   'extended_tweet': {'display_text_range': [0, 280],\n",
       "    'entities': {'hashtags': [],\n",
       "     'symbols': [],\n",
       "     'urls': [],\n",
       "     'user_mentions': []},\n",
       "    'full_text': 'If some accuse me of talking to both sides in the Brexit debate then so be it. I’m proud of it.\\n\\nWhy would I only want to talk to half the country? I don’t want to live in half a country.\\n\\nA prime minister must talk and listen to everyone - and bring our divided country together.'},\n",
       "   'geo': None,\n",
       "   'lang': 'en',\n",
       "   'text': 'If some accuse me of talking to both sides in the Brexit debate then so be it. I’m proud of it.\\n\\nWhy would I only w… https://t.co/IReDDMuYTH',\n",
       "   'user': {'time_zone': None,\n",
       "    'notifications': None,\n",
       "    'profile_background_color': '131516',\n",
       "    'profile_sidebar_fill_color': '000000',\n",
       "    'profile_background_image_url': 'http://abs.twimg.com/images/themes/theme14/bg.gif',\n",
       "    'protected': False,\n",
       "    'friends_count': 2650,\n",
       "    'profile_banner_url': 'https://pbs.twimg.com/profile_banners/117777690/1506521898',\n",
       "    'is_translator': False,\n",
       "    'geo_enabled': True,\n",
       "    'profile_image_url_https': 'https://pbs.twimg.com/profile_images/1197846676578426880/EiaPjwTi_normal.jpg',\n",
       "    'profile_sidebar_border_color': '000000',\n",
       "    'profile_image_url': 'http://pbs.twimg.com/profile_images/1197846676578426880/EiaPjwTi_normal.jpg',\n",
       "    'description': 'Leader of the Labour Party.',\n",
       "    'location': 'UK',\n",
       "    'followers_count': 2248731,\n",
       "    'url': 'https://volunteer.labour.org.uk/',\n",
       "    'statuses_count': 13704,\n",
       "    'profile_text_color': '000000',\n",
       "    'id_str': '117777690',\n",
       "    'contributors_enabled': False,\n",
       "    'following': None,\n",
       "    'translator_type': 'none',\n",
       "    'utc_offset': None,\n",
       "    'default_profile': False,\n",
       "    'lang': None,\n",
       "    'default_profile_image': False,\n",
       "    'follow_request_sent': None,\n",
       "    'profile_link_color': '009999',\n",
       "    'profile_background_image_url_https': 'https://abs.twimg.com/images/themes/theme14/bg.gif',\n",
       "    'id': 117777690,\n",
       "    'verified': True,\n",
       "    'favourites_count': 248,\n",
       "    'profile_use_background_image': True,\n",
       "    'listed_count': 7762,\n",
       "    'profile_background_tile': True,\n",
       "    'name': 'Jeremy Corbyn',\n",
       "    'created_at': 'Fri Feb 26 15:45:23 +0000 2010',\n",
       "    'screen_name': 'jeremycorbyn'},\n",
       "   'created_at': 'Fri Dec 06 12:41:07 +0000 2019',\n",
       "   'source': '<a href=\"https://mobile.twitter.com\" rel=\"nofollow\">Twitter Web App</a>',\n",
       "   'id': 1202930969830985728,\n",
       "   'entities': {'hashtags': [],\n",
       "    'symbols': [],\n",
       "    'urls': [{'expanded_url': 'https://twitter.com/i/web/status/1202930969830985728',\n",
       "      'indices': [117, 140],\n",
       "      'url': 'https://t.co/IReDDMuYTH',\n",
       "      'display_url': 'twitter.com/i/web/status/1…'}],\n",
       "    'user_mentions': []},\n",
       "   'filter_level': 'low',\n",
       "   'is_quote_status': False},\n",
       "  'reply_count': 0,\n",
       "  'in_reply_to_status_id_str': None,\n",
       "  'in_reply_to_user_id': None,\n",
       "  'truncated': False,\n",
       "  'retweeted': False,\n",
       "  'contributors': None,\n",
       "  'place': None,\n",
       "  'quote_count': 0,\n",
       "  'id_str': '1202956978286452738',\n",
       "  'coordinates': None,\n",
       "  'geo': None,\n",
       "  'lang': 'en',\n",
       "  'text': 'RT @jeremycorbyn: If some accuse me of talking to both sides in the Brexit debate then so be it. I’m proud of it.\\n\\nWhy would I only want to…',\n",
       "  'user': {'time_zone': None,\n",
       "   'notifications': None,\n",
       "   'profile_background_color': 'C0DEED',\n",
       "   'profile_sidebar_fill_color': 'DDEEF6',\n",
       "   'profile_background_image_url': 'http://abs.twimg.com/images/themes/theme1/bg.png',\n",
       "   'protected': False,\n",
       "   'friends_count': 614,\n",
       "   'is_translator': False,\n",
       "   'geo_enabled': True,\n",
       "   'profile_image_url_https': 'https://pbs.twimg.com/profile_images/948960672272060416/eDqUj4Ni_normal.jpg',\n",
       "   'profile_sidebar_border_color': 'C0DEED',\n",
       "   'profile_image_url': 'http://pbs.twimg.com/profile_images/948960672272060416/eDqUj4Ni_normal.jpg',\n",
       "   'description': 'British liberal, artist, check out my instagram page rob_burch_arts.',\n",
       "   'location': 'Northampton, England',\n",
       "   'followers_count': 230,\n",
       "   'url': None,\n",
       "   'statuses_count': 40775,\n",
       "   'profile_text_color': '333333',\n",
       "   'id_str': '2496109354',\n",
       "   'contributors_enabled': False,\n",
       "   'following': None,\n",
       "   'translator_type': 'none',\n",
       "   'utc_offset': None,\n",
       "   'default_profile': True,\n",
       "   'lang': None,\n",
       "   'default_profile_image': False,\n",
       "   'follow_request_sent': None,\n",
       "   'profile_link_color': '1DA1F2',\n",
       "   'profile_background_image_url_https': 'https://abs.twimg.com/images/themes/theme1/bg.png',\n",
       "   'id': 2496109354,\n",
       "   'verified': False,\n",
       "   'favourites_count': 30169,\n",
       "   'profile_use_background_image': True,\n",
       "   'listed_count': 2,\n",
       "   'profile_background_tile': False,\n",
       "   'name': 'robert',\n",
       "   'created_at': 'Sun Apr 20 01:48:49 +0000 2014',\n",
       "   'screen_name': 'rb218702'},\n",
       "  'created_at': 'Fri Dec 06 14:24:28 +0000 2019',\n",
       "  'source': '<a href=\"http://twitter.com/download/iphone\" rel=\"nofollow\">Twitter for iPhone</a>',\n",
       "  'id': 1202956978286452738,\n",
       "  'entities': {'hashtags': [],\n",
       "   'symbols': [],\n",
       "   'urls': [],\n",
       "   'user_mentions': [{'indices': [3, 16],\n",
       "     'id_str': '117777690',\n",
       "     'id': 117777690,\n",
       "     'name': 'Jeremy Corbyn',\n",
       "     'screen_name': 'jeremycorbyn'}]},\n",
       "  'filter_level': 'low',\n",
       "  'is_quote_status': False}]"
      ]
     },
     "execution_count": 27,
     "metadata": {},
     "output_type": "execute_result"
    }
   ],
   "source": [
    "# ~~~~~~~~~~~~~~~~~~~~~~~~~~~~~~~~~~~~~~~~~~~~~~~~~~~~~~~~~~~~~~~~~~\n",
    "# Exercise 03\n",
    "# ~~~~~~~~~~~~~~~~~~~~~~~~~~~~~~~~~~~~~~~~~~~~~~~~~~~~~~~~~~~~~~~~~~\n",
    "# (1) Browse through the raw Twitter object, try to understand its \n",
    "# structure, and extract the following information about the status \n",
    "# update: \"user_id\", \"user_handle\", \"user_loc\", \"user_desc\", \"tweet_text\", \n",
    "# \"tweet_id\", \"tweet_time\"\n",
    "# USING SINGLE TWEET\n",
    "\n",
    "tweet = open(\"data/single-tweet.json\").read()\n",
    "tweet = json.loads(tweet)\n",
    "tweet"
   ]
  },
  {
   "cell_type": "code",
   "execution_count": 28,
   "metadata": {},
   "outputs": [
    {
     "data": {
      "text/plain": [
       "list"
      ]
     },
     "execution_count": 28,
     "metadata": {},
     "output_type": "execute_result"
    }
   ],
   "source": [
    "type(tweet)"
   ]
  },
  {
   "cell_type": "code",
   "execution_count": 29,
   "metadata": {},
   "outputs": [
    {
     "data": {
      "text/plain": [
       "dict"
      ]
     },
     "execution_count": 29,
     "metadata": {},
     "output_type": "execute_result"
    }
   ],
   "source": [
    "type(tweet[0])"
   ]
  },
  {
   "cell_type": "code",
   "execution_count": 30,
   "metadata": {},
   "outputs": [
    {
     "data": {
      "text/plain": [
       "dict"
      ]
     },
     "execution_count": 30,
     "metadata": {},
     "output_type": "execute_result"
    }
   ],
   "source": [
    "#get rid of the list and save the dic\n",
    "dictweet = tweet[0]\n",
    "type(dictweet)"
   ]
  },
  {
   "cell_type": "code",
   "execution_count": 31,
   "metadata": {},
   "outputs": [
    {
     "data": {
      "text/plain": [
       "{'in_reply_to_user_id_str': None,\n",
       " 'retweet_count': 0,\n",
       " 'favorited': False,\n",
       " 'in_reply_to_status_id': None,\n",
       " 'timestamp_ms': '1575642268140',\n",
       " 'favorite_count': 0,\n",
       " 'in_reply_to_screen_name': None,\n",
       " 'retweeted_status': {'in_reply_to_user_id_str': None,\n",
       "  'retweet_count': 8068,\n",
       "  'favorited': False,\n",
       "  'in_reply_to_status_id': None,\n",
       "  'favorite_count': 36096,\n",
       "  'in_reply_to_screen_name': None,\n",
       "  'contributors': None,\n",
       "  'reply_count': 1461,\n",
       "  'in_reply_to_status_id_str': None,\n",
       "  'in_reply_to_user_id': None,\n",
       "  'truncated': True,\n",
       "  'retweeted': False,\n",
       "  'place': None,\n",
       "  'quote_count': 655,\n",
       "  'id_str': '1202930969830985728',\n",
       "  'coordinates': None,\n",
       "  'extended_tweet': {'display_text_range': [0, 280],\n",
       "   'entities': {'hashtags': [],\n",
       "    'symbols': [],\n",
       "    'urls': [],\n",
       "    'user_mentions': []},\n",
       "   'full_text': 'If some accuse me of talking to both sides in the Brexit debate then so be it. I’m proud of it.\\n\\nWhy would I only want to talk to half the country? I don’t want to live in half a country.\\n\\nA prime minister must talk and listen to everyone - and bring our divided country together.'},\n",
       "  'geo': None,\n",
       "  'lang': 'en',\n",
       "  'text': 'If some accuse me of talking to both sides in the Brexit debate then so be it. I’m proud of it.\\n\\nWhy would I only w… https://t.co/IReDDMuYTH',\n",
       "  'user': {'time_zone': None,\n",
       "   'notifications': None,\n",
       "   'profile_background_color': '131516',\n",
       "   'profile_sidebar_fill_color': '000000',\n",
       "   'profile_background_image_url': 'http://abs.twimg.com/images/themes/theme14/bg.gif',\n",
       "   'protected': False,\n",
       "   'friends_count': 2650,\n",
       "   'profile_banner_url': 'https://pbs.twimg.com/profile_banners/117777690/1506521898',\n",
       "   'is_translator': False,\n",
       "   'geo_enabled': True,\n",
       "   'profile_image_url_https': 'https://pbs.twimg.com/profile_images/1197846676578426880/EiaPjwTi_normal.jpg',\n",
       "   'profile_sidebar_border_color': '000000',\n",
       "   'profile_image_url': 'http://pbs.twimg.com/profile_images/1197846676578426880/EiaPjwTi_normal.jpg',\n",
       "   'description': 'Leader of the Labour Party.',\n",
       "   'location': 'UK',\n",
       "   'followers_count': 2248731,\n",
       "   'url': 'https://volunteer.labour.org.uk/',\n",
       "   'statuses_count': 13704,\n",
       "   'profile_text_color': '000000',\n",
       "   'id_str': '117777690',\n",
       "   'contributors_enabled': False,\n",
       "   'following': None,\n",
       "   'translator_type': 'none',\n",
       "   'utc_offset': None,\n",
       "   'default_profile': False,\n",
       "   'lang': None,\n",
       "   'default_profile_image': False,\n",
       "   'follow_request_sent': None,\n",
       "   'profile_link_color': '009999',\n",
       "   'profile_background_image_url_https': 'https://abs.twimg.com/images/themes/theme14/bg.gif',\n",
       "   'id': 117777690,\n",
       "   'verified': True,\n",
       "   'favourites_count': 248,\n",
       "   'profile_use_background_image': True,\n",
       "   'listed_count': 7762,\n",
       "   'profile_background_tile': True,\n",
       "   'name': 'Jeremy Corbyn',\n",
       "   'created_at': 'Fri Feb 26 15:45:23 +0000 2010',\n",
       "   'screen_name': 'jeremycorbyn'},\n",
       "  'created_at': 'Fri Dec 06 12:41:07 +0000 2019',\n",
       "  'source': '<a href=\"https://mobile.twitter.com\" rel=\"nofollow\">Twitter Web App</a>',\n",
       "  'id': 1202930969830985728,\n",
       "  'entities': {'hashtags': [],\n",
       "   'symbols': [],\n",
       "   'urls': [{'expanded_url': 'https://twitter.com/i/web/status/1202930969830985728',\n",
       "     'indices': [117, 140],\n",
       "     'url': 'https://t.co/IReDDMuYTH',\n",
       "     'display_url': 'twitter.com/i/web/status/1…'}],\n",
       "   'user_mentions': []},\n",
       "  'filter_level': 'low',\n",
       "  'is_quote_status': False},\n",
       " 'reply_count': 0,\n",
       " 'in_reply_to_status_id_str': None,\n",
       " 'in_reply_to_user_id': None,\n",
       " 'truncated': False,\n",
       " 'retweeted': False,\n",
       " 'contributors': None,\n",
       " 'place': None,\n",
       " 'quote_count': 0,\n",
       " 'id_str': '1202956978286452738',\n",
       " 'coordinates': None,\n",
       " 'geo': None,\n",
       " 'lang': 'en',\n",
       " 'text': 'RT @jeremycorbyn: If some accuse me of talking to both sides in the Brexit debate then so be it. I’m proud of it.\\n\\nWhy would I only want to…',\n",
       " 'user': {'time_zone': None,\n",
       "  'notifications': None,\n",
       "  'profile_background_color': 'C0DEED',\n",
       "  'profile_sidebar_fill_color': 'DDEEF6',\n",
       "  'profile_background_image_url': 'http://abs.twimg.com/images/themes/theme1/bg.png',\n",
       "  'protected': False,\n",
       "  'friends_count': 614,\n",
       "  'is_translator': False,\n",
       "  'geo_enabled': True,\n",
       "  'profile_image_url_https': 'https://pbs.twimg.com/profile_images/948960672272060416/eDqUj4Ni_normal.jpg',\n",
       "  'profile_sidebar_border_color': 'C0DEED',\n",
       "  'profile_image_url': 'http://pbs.twimg.com/profile_images/948960672272060416/eDqUj4Ni_normal.jpg',\n",
       "  'description': 'British liberal, artist, check out my instagram page rob_burch_arts.',\n",
       "  'location': 'Northampton, England',\n",
       "  'followers_count': 230,\n",
       "  'url': None,\n",
       "  'statuses_count': 40775,\n",
       "  'profile_text_color': '333333',\n",
       "  'id_str': '2496109354',\n",
       "  'contributors_enabled': False,\n",
       "  'following': None,\n",
       "  'translator_type': 'none',\n",
       "  'utc_offset': None,\n",
       "  'default_profile': True,\n",
       "  'lang': None,\n",
       "  'default_profile_image': False,\n",
       "  'follow_request_sent': None,\n",
       "  'profile_link_color': '1DA1F2',\n",
       "  'profile_background_image_url_https': 'https://abs.twimg.com/images/themes/theme1/bg.png',\n",
       "  'id': 2496109354,\n",
       "  'verified': False,\n",
       "  'favourites_count': 30169,\n",
       "  'profile_use_background_image': True,\n",
       "  'listed_count': 2,\n",
       "  'profile_background_tile': False,\n",
       "  'name': 'robert',\n",
       "  'created_at': 'Sun Apr 20 01:48:49 +0000 2014',\n",
       "  'screen_name': 'rb218702'},\n",
       " 'created_at': 'Fri Dec 06 14:24:28 +0000 2019',\n",
       " 'source': '<a href=\"http://twitter.com/download/iphone\" rel=\"nofollow\">Twitter for iPhone</a>',\n",
       " 'id': 1202956978286452738,\n",
       " 'entities': {'hashtags': [],\n",
       "  'symbols': [],\n",
       "  'urls': [],\n",
       "  'user_mentions': [{'indices': [3, 16],\n",
       "    'id_str': '117777690',\n",
       "    'id': 117777690,\n",
       "    'name': 'Jeremy Corbyn',\n",
       "    'screen_name': 'jeremycorbyn'}]},\n",
       " 'filter_level': 'low',\n",
       " 'is_quote_status': False}"
      ]
     },
     "execution_count": 31,
     "metadata": {},
     "output_type": "execute_result"
    }
   ],
   "source": [
    "#tweet[#the key way the information is stored]\n",
    "#tweet[\"user\"][\"screenname(second level)\"]\n",
    "dictweet"
   ]
  },
  {
   "cell_type": "code",
   "execution_count": 32,
   "metadata": {},
   "outputs": [
    {
     "data": {
      "text/plain": [
       "dict_keys(['in_reply_to_user_id_str', 'retweet_count', 'favorited', 'in_reply_to_status_id', 'timestamp_ms', 'favorite_count', 'in_reply_to_screen_name', 'retweeted_status', 'reply_count', 'in_reply_to_status_id_str', 'in_reply_to_user_id', 'truncated', 'retweeted', 'contributors', 'place', 'quote_count', 'id_str', 'coordinates', 'geo', 'lang', 'text', 'user', 'created_at', 'source', 'id', 'entities', 'filter_level', 'is_quote_status'])"
      ]
     },
     "execution_count": 32,
     "metadata": {},
     "output_type": "execute_result"
    }
   ],
   "source": [
    "dictweet.keys()"
   ]
  },
  {
   "cell_type": "code",
   "execution_count": 33,
   "metadata": {},
   "outputs": [
    {
     "data": {
      "text/plain": [
       "{'time_zone': None,\n",
       " 'notifications': None,\n",
       " 'profile_background_color': 'C0DEED',\n",
       " 'profile_sidebar_fill_color': 'DDEEF6',\n",
       " 'profile_background_image_url': 'http://abs.twimg.com/images/themes/theme1/bg.png',\n",
       " 'protected': False,\n",
       " 'friends_count': 614,\n",
       " 'is_translator': False,\n",
       " 'geo_enabled': True,\n",
       " 'profile_image_url_https': 'https://pbs.twimg.com/profile_images/948960672272060416/eDqUj4Ni_normal.jpg',\n",
       " 'profile_sidebar_border_color': 'C0DEED',\n",
       " 'profile_image_url': 'http://pbs.twimg.com/profile_images/948960672272060416/eDqUj4Ni_normal.jpg',\n",
       " 'description': 'British liberal, artist, check out my instagram page rob_burch_arts.',\n",
       " 'location': 'Northampton, England',\n",
       " 'followers_count': 230,\n",
       " 'url': None,\n",
       " 'statuses_count': 40775,\n",
       " 'profile_text_color': '333333',\n",
       " 'id_str': '2496109354',\n",
       " 'contributors_enabled': False,\n",
       " 'following': None,\n",
       " 'translator_type': 'none',\n",
       " 'utc_offset': None,\n",
       " 'default_profile': True,\n",
       " 'lang': None,\n",
       " 'default_profile_image': False,\n",
       " 'follow_request_sent': None,\n",
       " 'profile_link_color': '1DA1F2',\n",
       " 'profile_background_image_url_https': 'https://abs.twimg.com/images/themes/theme1/bg.png',\n",
       " 'id': 2496109354,\n",
       " 'verified': False,\n",
       " 'favourites_count': 30169,\n",
       " 'profile_use_background_image': True,\n",
       " 'listed_count': 2,\n",
       " 'profile_background_tile': False,\n",
       " 'name': 'robert',\n",
       " 'created_at': 'Sun Apr 20 01:48:49 +0000 2014',\n",
       " 'screen_name': 'rb218702'}"
      ]
     },
     "execution_count": 33,
     "metadata": {},
     "output_type": "execute_result"
    }
   ],
   "source": [
    "dictweet[\"user\"]"
   ]
  },
  {
   "cell_type": "code",
   "execution_count": 34,
   "metadata": {},
   "outputs": [
    {
     "data": {
      "text/plain": [
       "2496109354"
      ]
     },
     "execution_count": 34,
     "metadata": {},
     "output_type": "execute_result"
    }
   ],
   "source": [
    "dictweet[\"user\"][\"id\"]"
   ]
  },
  {
   "cell_type": "code",
   "execution_count": 35,
   "metadata": {},
   "outputs": [],
   "source": [
    "user_id = dictweet[\"user\"][\"id\"]"
   ]
  },
  {
   "cell_type": "code",
   "execution_count": 36,
   "metadata": {},
   "outputs": [
    {
     "data": {
      "text/plain": [
       "2496109354"
      ]
     },
     "execution_count": 36,
     "metadata": {},
     "output_type": "execute_result"
    }
   ],
   "source": [
    "user_id"
   ]
  },
  {
   "cell_type": "code",
   "execution_count": 37,
   "metadata": {},
   "outputs": [
    {
     "data": {
      "text/plain": [
       "'rb218702'"
      ]
     },
     "execution_count": 37,
     "metadata": {},
     "output_type": "execute_result"
    }
   ],
   "source": [
    "dictweet[\"user\"][\"screen_name\"]"
   ]
  },
  {
   "cell_type": "code",
   "execution_count": 38,
   "metadata": {},
   "outputs": [
    {
     "data": {
      "text/plain": [
       "'rb218702'"
      ]
     },
     "execution_count": 38,
     "metadata": {},
     "output_type": "execute_result"
    }
   ],
   "source": [
    "user_handle = dictweet[\"user\"][\"screen_name\"]\n",
    "user_handle"
   ]
  },
  {
   "cell_type": "code",
   "execution_count": 39,
   "metadata": {},
   "outputs": [
    {
     "data": {
      "text/plain": [
       "'Northampton, England'"
      ]
     },
     "execution_count": 39,
     "metadata": {},
     "output_type": "execute_result"
    }
   ],
   "source": [
    "user_loc = dictweet[\"user\"][\"location\"]\n",
    "user_loc"
   ]
  },
  {
   "cell_type": "code",
   "execution_count": 40,
   "metadata": {},
   "outputs": [
    {
     "data": {
      "text/plain": [
       "'British liberal, artist, check out my instagram page rob_burch_arts.'"
      ]
     },
     "execution_count": 40,
     "metadata": {},
     "output_type": "execute_result"
    }
   ],
   "source": [
    "user_desc = dictweet[\"user\"][\"description\"]\n",
    "user_desc"
   ]
  },
  {
   "cell_type": "code",
   "execution_count": 41,
   "metadata": {},
   "outputs": [
    {
     "data": {
      "text/plain": [
       "'RT @jeremycorbyn: If some accuse me of talking to both sides in the Brexit debate then so be it. I’m proud of it.\\n\\nWhy would I only want to…'"
      ]
     },
     "execution_count": 41,
     "metadata": {},
     "output_type": "execute_result"
    }
   ],
   "source": [
    "tweet_text = dictweet[\"text\"]\n",
    "tweet_text"
   ]
  },
  {
   "cell_type": "code",
   "execution_count": 42,
   "metadata": {},
   "outputs": [
    {
     "data": {
      "text/plain": [
       "1202956978286452738"
      ]
     },
     "execution_count": 42,
     "metadata": {},
     "output_type": "execute_result"
    }
   ],
   "source": [
    "tweet_id = dictweet[\"id\"]\n",
    "tweet_id"
   ]
  },
  {
   "cell_type": "code",
   "execution_count": 43,
   "metadata": {},
   "outputs": [
    {
     "data": {
      "text/plain": [
       "'Fri Dec 06 14:24:28 +0000 2019'"
      ]
     },
     "execution_count": 43,
     "metadata": {},
     "output_type": "execute_result"
    }
   ],
   "source": [
    "tweet_time = dictweet[\"created_at\"]\n",
    "tweet_time"
   ]
  },
  {
   "cell_type": "code",
   "execution_count": 44,
   "metadata": {},
   "outputs": [],
   "source": [
    "# (2) Check out the datatime package and try to convert Twitter's time \n",
    "# signature into the format \"29/05/2019 07:04\"\n",
    "#USE TIME PACKAGE NOT DATA PACKAGE\n",
    "import time\n",
    "? time"
   ]
  },
  {
   "cell_type": "code",
   "execution_count": 45,
   "metadata": {},
   "outputs": [
    {
     "data": {
      "text/plain": [
       "'Thu, 20 Feb 2020 14:23:43 +0000'"
      ]
     },
     "execution_count": 45,
     "metadata": {},
     "output_type": "execute_result"
    }
   ],
   "source": [
    "from time import gmtime, strftime\n",
    "strftime(\"%a, %d %b %Y %H:%M:%S +0000\", gmtime())"
   ]
  },
  {
   "cell_type": "code",
   "execution_count": 46,
   "metadata": {},
   "outputs": [
    {
     "data": {
      "text/plain": [
       "'06/12/2019 14:24'"
      ]
     },
     "execution_count": 46,
     "metadata": {},
     "output_type": "execute_result"
    }
   ],
   "source": [
    "# what about time zone, this one is from UK, but what if it is \n",
    "tweet_time1 = time.strptime(tweet_time, \"%a %b %d %H:%M:%S +0000 %Y\")\n",
    "tweet_time1\n",
    "tweet_time2 = strftime (\"%d/%m/%Y %H:%M\",tweet_time1)\n",
    "tweet_time2"
   ]
  },
  {
   "cell_type": "code",
   "execution_count": 53,
   "metadata": {},
   "outputs": [],
   "source": [
    "# (3) Go through multiple Twitter objects and try to understand the \n",
    "# inconsistencies in which Tweet texts are stored depending on Tweet type\n",
    "# and text length.\n",
    "json_data = open(\"data/2019-12-06_16-43-32.json\").read()"
   ]
  },
  {
   "cell_type": "code",
   "execution_count": 54,
   "metadata": {},
   "outputs": [
    {
     "ename": "JSONDecodeError",
     "evalue": "Expecting value: line 1 column 2 (char 1)",
     "output_type": "error",
     "traceback": [
      "\u001b[1;31m---------------------------------------------------------------------------\u001b[0m",
      "\u001b[1;31mJSONDecodeError\u001b[0m                           Traceback (most recent call last)",
      "\u001b[1;32m<ipython-input-54-36162ecafccc>\u001b[0m in \u001b[0;36m<module>\u001b[1;34m\u001b[0m\n\u001b[0;32m      1\u001b[0m \u001b[1;31m#must be a beter way\u001b[0m\u001b[1;33m\u001b[0m\u001b[1;33m\u001b[0m\u001b[1;33m\u001b[0m\u001b[0m\n\u001b[1;32m----> 2\u001b[1;33m \u001b[0mtweet0\u001b[0m \u001b[1;33m=\u001b[0m \u001b[0mjson\u001b[0m\u001b[1;33m.\u001b[0m\u001b[0mloads\u001b[0m \u001b[1;33m(\u001b[0m\u001b[0mjson_data\u001b[0m\u001b[1;33m[\u001b[0m\u001b[1;36m0\u001b[0m\u001b[1;33m]\u001b[0m\u001b[1;33m)\u001b[0m\u001b[1;33m\u001b[0m\u001b[1;33m\u001b[0m\u001b[0m\n\u001b[0m\u001b[0;32m      3\u001b[0m \u001b[0mtweet1\u001b[0m \u001b[1;33m=\u001b[0m \u001b[0mjson\u001b[0m\u001b[1;33m.\u001b[0m\u001b[0mloads\u001b[0m \u001b[1;33m(\u001b[0m\u001b[0mjson_data\u001b[0m\u001b[1;33m[\u001b[0m\u001b[1;36m1\u001b[0m\u001b[1;33m]\u001b[0m\u001b[1;33m)\u001b[0m\u001b[1;33m\u001b[0m\u001b[1;33m\u001b[0m\u001b[0m\n\u001b[0;32m      4\u001b[0m \u001b[0mtweet2\u001b[0m \u001b[1;33m=\u001b[0m \u001b[0mjson\u001b[0m\u001b[1;33m.\u001b[0m\u001b[0mloads\u001b[0m \u001b[1;33m(\u001b[0m\u001b[0mjson_data\u001b[0m\u001b[1;33m[\u001b[0m\u001b[1;36m2\u001b[0m\u001b[1;33m]\u001b[0m\u001b[1;33m)\u001b[0m\u001b[1;33m\u001b[0m\u001b[1;33m\u001b[0m\u001b[0m\n\u001b[0;32m      5\u001b[0m \u001b[0mtweet3\u001b[0m \u001b[1;33m=\u001b[0m \u001b[0mjson\u001b[0m\u001b[1;33m.\u001b[0m\u001b[0mloads\u001b[0m \u001b[1;33m(\u001b[0m\u001b[0mjson_data\u001b[0m\u001b[1;33m[\u001b[0m\u001b[1;36m3\u001b[0m\u001b[1;33m]\u001b[0m\u001b[1;33m)\u001b[0m\u001b[1;33m\u001b[0m\u001b[1;33m\u001b[0m\u001b[0m\n",
      "\u001b[1;32m~\\Anaconda3\\lib\\json\\__init__.py\u001b[0m in \u001b[0;36mloads\u001b[1;34m(s, encoding, cls, object_hook, parse_float, parse_int, parse_constant, object_pairs_hook, **kw)\u001b[0m\n\u001b[0;32m    346\u001b[0m             \u001b[0mparse_int\u001b[0m \u001b[1;32mis\u001b[0m \u001b[1;32mNone\u001b[0m \u001b[1;32mand\u001b[0m \u001b[0mparse_float\u001b[0m \u001b[1;32mis\u001b[0m \u001b[1;32mNone\u001b[0m \u001b[1;32mand\u001b[0m\u001b[1;33m\u001b[0m\u001b[1;33m\u001b[0m\u001b[0m\n\u001b[0;32m    347\u001b[0m             parse_constant is None and object_pairs_hook is None and not kw):\n\u001b[1;32m--> 348\u001b[1;33m         \u001b[1;32mreturn\u001b[0m \u001b[0m_default_decoder\u001b[0m\u001b[1;33m.\u001b[0m\u001b[0mdecode\u001b[0m\u001b[1;33m(\u001b[0m\u001b[0ms\u001b[0m\u001b[1;33m)\u001b[0m\u001b[1;33m\u001b[0m\u001b[1;33m\u001b[0m\u001b[0m\n\u001b[0m\u001b[0;32m    349\u001b[0m     \u001b[1;32mif\u001b[0m \u001b[0mcls\u001b[0m \u001b[1;32mis\u001b[0m \u001b[1;32mNone\u001b[0m\u001b[1;33m:\u001b[0m\u001b[1;33m\u001b[0m\u001b[1;33m\u001b[0m\u001b[0m\n\u001b[0;32m    350\u001b[0m         \u001b[0mcls\u001b[0m \u001b[1;33m=\u001b[0m \u001b[0mJSONDecoder\u001b[0m\u001b[1;33m\u001b[0m\u001b[1;33m\u001b[0m\u001b[0m\n",
      "\u001b[1;32m~\\Anaconda3\\lib\\json\\decoder.py\u001b[0m in \u001b[0;36mdecode\u001b[1;34m(self, s, _w)\u001b[0m\n\u001b[0;32m    335\u001b[0m \u001b[1;33m\u001b[0m\u001b[0m\n\u001b[0;32m    336\u001b[0m         \"\"\"\n\u001b[1;32m--> 337\u001b[1;33m         \u001b[0mobj\u001b[0m\u001b[1;33m,\u001b[0m \u001b[0mend\u001b[0m \u001b[1;33m=\u001b[0m \u001b[0mself\u001b[0m\u001b[1;33m.\u001b[0m\u001b[0mraw_decode\u001b[0m\u001b[1;33m(\u001b[0m\u001b[0ms\u001b[0m\u001b[1;33m,\u001b[0m \u001b[0midx\u001b[0m\u001b[1;33m=\u001b[0m\u001b[0m_w\u001b[0m\u001b[1;33m(\u001b[0m\u001b[0ms\u001b[0m\u001b[1;33m,\u001b[0m \u001b[1;36m0\u001b[0m\u001b[1;33m)\u001b[0m\u001b[1;33m.\u001b[0m\u001b[0mend\u001b[0m\u001b[1;33m(\u001b[0m\u001b[1;33m)\u001b[0m\u001b[1;33m)\u001b[0m\u001b[1;33m\u001b[0m\u001b[1;33m\u001b[0m\u001b[0m\n\u001b[0m\u001b[0;32m    338\u001b[0m         \u001b[0mend\u001b[0m \u001b[1;33m=\u001b[0m \u001b[0m_w\u001b[0m\u001b[1;33m(\u001b[0m\u001b[0ms\u001b[0m\u001b[1;33m,\u001b[0m \u001b[0mend\u001b[0m\u001b[1;33m)\u001b[0m\u001b[1;33m.\u001b[0m\u001b[0mend\u001b[0m\u001b[1;33m(\u001b[0m\u001b[1;33m)\u001b[0m\u001b[1;33m\u001b[0m\u001b[1;33m\u001b[0m\u001b[0m\n\u001b[0;32m    339\u001b[0m         \u001b[1;32mif\u001b[0m \u001b[0mend\u001b[0m \u001b[1;33m!=\u001b[0m \u001b[0mlen\u001b[0m\u001b[1;33m(\u001b[0m\u001b[0ms\u001b[0m\u001b[1;33m)\u001b[0m\u001b[1;33m:\u001b[0m\u001b[1;33m\u001b[0m\u001b[1;33m\u001b[0m\u001b[0m\n",
      "\u001b[1;32m~\\Anaconda3\\lib\\json\\decoder.py\u001b[0m in \u001b[0;36mraw_decode\u001b[1;34m(self, s, idx)\u001b[0m\n\u001b[0;32m    353\u001b[0m             \u001b[0mobj\u001b[0m\u001b[1;33m,\u001b[0m \u001b[0mend\u001b[0m \u001b[1;33m=\u001b[0m \u001b[0mself\u001b[0m\u001b[1;33m.\u001b[0m\u001b[0mscan_once\u001b[0m\u001b[1;33m(\u001b[0m\u001b[0ms\u001b[0m\u001b[1;33m,\u001b[0m \u001b[0midx\u001b[0m\u001b[1;33m)\u001b[0m\u001b[1;33m\u001b[0m\u001b[1;33m\u001b[0m\u001b[0m\n\u001b[0;32m    354\u001b[0m         \u001b[1;32mexcept\u001b[0m \u001b[0mStopIteration\u001b[0m \u001b[1;32mas\u001b[0m \u001b[0merr\u001b[0m\u001b[1;33m:\u001b[0m\u001b[1;33m\u001b[0m\u001b[1;33m\u001b[0m\u001b[0m\n\u001b[1;32m--> 355\u001b[1;33m             \u001b[1;32mraise\u001b[0m \u001b[0mJSONDecodeError\u001b[0m\u001b[1;33m(\u001b[0m\u001b[1;34m\"Expecting value\"\u001b[0m\u001b[1;33m,\u001b[0m \u001b[0ms\u001b[0m\u001b[1;33m,\u001b[0m \u001b[0merr\u001b[0m\u001b[1;33m.\u001b[0m\u001b[0mvalue\u001b[0m\u001b[1;33m)\u001b[0m \u001b[1;32mfrom\u001b[0m \u001b[1;32mNone\u001b[0m\u001b[1;33m\u001b[0m\u001b[1;33m\u001b[0m\u001b[0m\n\u001b[0m\u001b[0;32m    356\u001b[0m         \u001b[1;32mreturn\u001b[0m \u001b[0mobj\u001b[0m\u001b[1;33m,\u001b[0m \u001b[0mend\u001b[0m\u001b[1;33m\u001b[0m\u001b[1;33m\u001b[0m\u001b[0m\n",
      "\u001b[1;31mJSONDecodeError\u001b[0m: Expecting value: line 1 column 2 (char 1)"
     ]
    }
   ],
   "source": [
    "#must be a beter way\n",
    "tweet0 = json.loads (json_data[0])\n",
    "tweet1 = json.loads (json_data[1])\n",
    "tweet2 = json.loads (json_data[2])\n",
    "tweet3 = json.loads (json_data[3])\n",
    "tweet4 = json.loads (json_data[4])\n",
    "tweet5 = json.loads (json_data[5])"
   ]
  },
  {
   "cell_type": "code",
   "execution_count": 49,
   "metadata": {},
   "outputs": [
    {
     "ename": "NameError",
     "evalue": "name 'tweet0' is not defined",
     "output_type": "error",
     "traceback": [
      "\u001b[1;31m---------------------------------------------------------------------------\u001b[0m",
      "\u001b[1;31mNameError\u001b[0m                                 Traceback (most recent call last)",
      "\u001b[1;32m<ipython-input-49-169a9b9f7d5d>\u001b[0m in \u001b[0;36m<module>\u001b[1;34m\u001b[0m\n\u001b[0;32m      1\u001b[0m \u001b[1;31m#with rt textover 140 signs is full text,\u001b[0m\u001b[1;33m\u001b[0m\u001b[1;33m\u001b[0m\u001b[1;33m\u001b[0m\u001b[0m\n\u001b[0;32m      2\u001b[0m \u001b[1;31m#while with tweet over 140 sign it is called extended text\u001b[0m\u001b[1;33m\u001b[0m\u001b[1;33m\u001b[0m\u001b[1;33m\u001b[0m\u001b[0m\n\u001b[1;32m----> 3\u001b[1;33m \u001b[0mtweet0\u001b[0m\u001b[1;33m,\u001b[0m\u001b[0mtweet1\u001b[0m\u001b[1;33m,\u001b[0m\u001b[0mtweet2\u001b[0m\u001b[1;33m\u001b[0m\u001b[1;33m\u001b[0m\u001b[0m\n\u001b[0m",
      "\u001b[1;31mNameError\u001b[0m: name 'tweet0' is not defined"
     ]
    }
   ],
   "source": [
    "#with rt textover 140 signs is full text, \n",
    "#while with tweet over 140 sign it is called extended text\n",
    "tweet0,tweet1,tweet2"
   ]
  },
  {
   "cell_type": "code",
   "execution_count": null,
   "metadata": {},
   "outputs": [],
   "source": [
    "type(tweet0)"
   ]
  },
  {
   "cell_type": "code",
   "execution_count": null,
   "metadata": {},
   "outputs": [],
   "source": [
    "# (4) Create a new pandas dataframe to store the information extracted in\n",
    "# the first task. Try to create a pandas dataframe without any content\n",
    "# a.k.a. an empty dataframe. This will be your master dataframe to which\n",
    "# you append information from Twitter objects row-by-row. (call it \"df\")\n",
    "\n",
    "#creating a new data frame\n",
    "selected_cols = [\"user_id\", \"user_handle\", \"user_loc\",\"user_desc\", \n",
    "                 \"tweet_text\", \"tweet_id\", \"tweet_time\"]\n",
    "df = df.loc[:, selected_cols]"
   ]
  },
  {
   "cell_type": "code",
   "execution_count": null,
   "metadata": {},
   "outputs": [],
   "source": [
    "#makes an empty dict from the list above \n",
    "empty_data = {col: [np.nan] for col in selected_cols}\n",
    "empty_data"
   ]
  },
  {
   "cell_type": "code",
   "execution_count": null,
   "metadata": {},
   "outputs": [],
   "source": [
    "df = pd.DataFrame(empty_data)\n",
    "df"
   ]
  },
  {
   "cell_type": "code",
   "execution_count": null,
   "metadata": {},
   "outputs": [],
   "source": [
    "df.loc[0, \"user_id\"] = user_id\n",
    "df.loc[0, \"user_handle\"] = user_handle\n",
    "df.loc[0, \"user_loc\"] = user_loc\n",
    "df.loc[0, \"user_desc\"] = user_desc\n",
    "df.loc[0, \"tweet_text\"] = tweet_text\n",
    "df.loc[0, \"tweet_id\"] = tweet_id\n",
    "df.loc[0, \"tweet_time\"] = tweet_time2"
   ]
  },
  {
   "cell_type": "code",
   "execution_count": null,
   "metadata": {},
   "outputs": [],
   "source": [
    "df"
   ]
  },
  {
   "cell_type": "code",
   "execution_count": null,
   "metadata": {},
   "outputs": [],
   "source": [
    "df.to_csv(\"data/time3\")"
   ]
  },
  {
   "cell_type": "code",
   "execution_count": null,
   "metadata": {},
   "outputs": [],
   "source": [
    "# (5) Write a for-loop that runs through the first 100 Twitter objects \n",
    "# from the JSON data, converts the string into a dictionary, and prints \n",
    "# the tweet_text for each. \n",
    "# Tipp: Check our if-else statements to ensure that you extract the text \n",
    "# reliably for each Tweet format."
   ]
  },
  {
   "cell_type": "code",
   "execution_count": null,
   "metadata": {},
   "outputs": [],
   "source": [
    "json_data + str(1) = json.loads(json_data[0 + str(1)])\n",
    "\n"
   ]
  },
  {
   "cell_type": "code",
   "execution_count": null,
   "metadata": {},
   "outputs": [],
   "source": [
    "# (6) Extend this loop to create a new pandas dataframe with the same \n",
    "# columns as \"df\" and one row with np.nan for each column. (call it \n",
    "# \"new_row\")\n",
    "\n",
    "# (7) Extend this loop to fill in the cells for each new Tweet and append\n",
    "# the result to the \"df\" dataframe.\n",
    "\n",
    "# (8) After this loop, save \"df\" on your disk in the feather format.\n",
    "\n",
    "# (9) Try to process all 25.000 Twitter objects with this loop. \n",
    "# Tipp: If you run into troubles, manually check out the Twitter object\n",
    "# that breaks the loop to ensure you're looking for the information at\n",
    "# the right place in the dictionary.\n",
    "\n",
    "# (10) Check out how to write functions in python, and write this process\n",
    "# into a function that takes the string Twitter object, converts it into\n",
    "# a dictionary, etc. and outputs the new_row pandas dataframe. You should\n",
    "# be able to run the following for-loop executing everything from the \n",
    "# previous exercises:"
   ]
  },
  {
   "cell_type": "code",
   "execution_count": null,
   "metadata": {},
   "outputs": [],
   "source": []
  }
 ],
 "metadata": {
  "kernelspec": {
   "display_name": "Python 3",
   "language": "python",
   "name": "python3"
  },
  "language_info": {
   "codemirror_mode": {
    "name": "ipython",
    "version": 3
   },
   "file_extension": ".py",
   "mimetype": "text/x-python",
   "name": "python",
   "nbconvert_exporter": "python",
   "pygments_lexer": "ipython3",
   "version": "3.7.6"
  }
 },
 "nbformat": 4,
 "nbformat_minor": 2
}
